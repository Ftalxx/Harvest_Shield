{
  "nbformat": 4,
  "nbformat_minor": 0,
  "metadata": {
    "colab": {
      "provenance": [],
      "include_colab_link": true
    },
    "kernelspec": {
      "name": "python3",
      "display_name": "Python 3"
    },
    "language_info": {
      "name": "python"
    },
    "widgets": {
      "application/vnd.jupyter.widget-state+json": {
        "8dba0a95ef3e45129dfebd1e181f88d7": {
          "model_module": "@jupyter-widgets/controls",
          "model_name": "HBoxModel",
          "model_module_version": "1.5.0",
          "state": {
            "_dom_classes": [],
            "_model_module": "@jupyter-widgets/controls",
            "_model_module_version": "1.5.0",
            "_model_name": "HBoxModel",
            "_view_count": null,
            "_view_module": "@jupyter-widgets/controls",
            "_view_module_version": "1.5.0",
            "_view_name": "HBoxView",
            "box_style": "",
            "children": [
              "IPY_MODEL_a7d1cdca446a4d77bd0f12ec7d379116",
              "IPY_MODEL_3ffa1e65044644a6bb85d852bd37cf4a",
              "IPY_MODEL_977835226fdf4aaf849c6fff6a29a806"
            ],
            "layout": "IPY_MODEL_841d5b3937c74d82b017947b5f56c0aa"
          }
        },
        "a7d1cdca446a4d77bd0f12ec7d379116": {
          "model_module": "@jupyter-widgets/controls",
          "model_name": "HTMLModel",
          "model_module_version": "1.5.0",
          "state": {
            "_dom_classes": [],
            "_model_module": "@jupyter-widgets/controls",
            "_model_module_version": "1.5.0",
            "_model_name": "HTMLModel",
            "_view_count": null,
            "_view_module": "@jupyter-widgets/controls",
            "_view_module_version": "1.5.0",
            "_view_name": "HTMLView",
            "description": "",
            "description_tooltip": null,
            "layout": "IPY_MODEL_fecaf0e083184876aa815bc64e5d9403",
            "placeholder": "​",
            "style": "IPY_MODEL_adf4faf454ac45cf98a4b082b64ade33",
            "value": "Map: 100%"
          }
        },
        "3ffa1e65044644a6bb85d852bd37cf4a": {
          "model_module": "@jupyter-widgets/controls",
          "model_name": "FloatProgressModel",
          "model_module_version": "1.5.0",
          "state": {
            "_dom_classes": [],
            "_model_module": "@jupyter-widgets/controls",
            "_model_module_version": "1.5.0",
            "_model_name": "FloatProgressModel",
            "_view_count": null,
            "_view_module": "@jupyter-widgets/controls",
            "_view_module_version": "1.5.0",
            "_view_name": "ProgressView",
            "bar_style": "success",
            "description": "",
            "description_tooltip": null,
            "layout": "IPY_MODEL_06710681489a4acc8fde16f1aa85f705",
            "max": 4000,
            "min": 0,
            "orientation": "horizontal",
            "style": "IPY_MODEL_e30b35eefcf744578965d38037cf6fda",
            "value": 4000
          }
        },
        "977835226fdf4aaf849c6fff6a29a806": {
          "model_module": "@jupyter-widgets/controls",
          "model_name": "HTMLModel",
          "model_module_version": "1.5.0",
          "state": {
            "_dom_classes": [],
            "_model_module": "@jupyter-widgets/controls",
            "_model_module_version": "1.5.0",
            "_model_name": "HTMLModel",
            "_view_count": null,
            "_view_module": "@jupyter-widgets/controls",
            "_view_module_version": "1.5.0",
            "_view_name": "HTMLView",
            "description": "",
            "description_tooltip": null,
            "layout": "IPY_MODEL_ad994b0fae48473aa58ddbcb3838e773",
            "placeholder": "​",
            "style": "IPY_MODEL_8312def2055e420190d33775c77b7294",
            "value": " 4000/4000 [00:00&lt;00:00, 4866.05 examples/s]"
          }
        },
        "841d5b3937c74d82b017947b5f56c0aa": {
          "model_module": "@jupyter-widgets/base",
          "model_name": "LayoutModel",
          "model_module_version": "1.2.0",
          "state": {
            "_model_module": "@jupyter-widgets/base",
            "_model_module_version": "1.2.0",
            "_model_name": "LayoutModel",
            "_view_count": null,
            "_view_module": "@jupyter-widgets/base",
            "_view_module_version": "1.2.0",
            "_view_name": "LayoutView",
            "align_content": null,
            "align_items": null,
            "align_self": null,
            "border": null,
            "bottom": null,
            "display": null,
            "flex": null,
            "flex_flow": null,
            "grid_area": null,
            "grid_auto_columns": null,
            "grid_auto_flow": null,
            "grid_auto_rows": null,
            "grid_column": null,
            "grid_gap": null,
            "grid_row": null,
            "grid_template_areas": null,
            "grid_template_columns": null,
            "grid_template_rows": null,
            "height": null,
            "justify_content": null,
            "justify_items": null,
            "left": null,
            "margin": null,
            "max_height": null,
            "max_width": null,
            "min_height": null,
            "min_width": null,
            "object_fit": null,
            "object_position": null,
            "order": null,
            "overflow": null,
            "overflow_x": null,
            "overflow_y": null,
            "padding": null,
            "right": null,
            "top": null,
            "visibility": null,
            "width": null
          }
        },
        "fecaf0e083184876aa815bc64e5d9403": {
          "model_module": "@jupyter-widgets/base",
          "model_name": "LayoutModel",
          "model_module_version": "1.2.0",
          "state": {
            "_model_module": "@jupyter-widgets/base",
            "_model_module_version": "1.2.0",
            "_model_name": "LayoutModel",
            "_view_count": null,
            "_view_module": "@jupyter-widgets/base",
            "_view_module_version": "1.2.0",
            "_view_name": "LayoutView",
            "align_content": null,
            "align_items": null,
            "align_self": null,
            "border": null,
            "bottom": null,
            "display": null,
            "flex": null,
            "flex_flow": null,
            "grid_area": null,
            "grid_auto_columns": null,
            "grid_auto_flow": null,
            "grid_auto_rows": null,
            "grid_column": null,
            "grid_gap": null,
            "grid_row": null,
            "grid_template_areas": null,
            "grid_template_columns": null,
            "grid_template_rows": null,
            "height": null,
            "justify_content": null,
            "justify_items": null,
            "left": null,
            "margin": null,
            "max_height": null,
            "max_width": null,
            "min_height": null,
            "min_width": null,
            "object_fit": null,
            "object_position": null,
            "order": null,
            "overflow": null,
            "overflow_x": null,
            "overflow_y": null,
            "padding": null,
            "right": null,
            "top": null,
            "visibility": null,
            "width": null
          }
        },
        "adf4faf454ac45cf98a4b082b64ade33": {
          "model_module": "@jupyter-widgets/controls",
          "model_name": "DescriptionStyleModel",
          "model_module_version": "1.5.0",
          "state": {
            "_model_module": "@jupyter-widgets/controls",
            "_model_module_version": "1.5.0",
            "_model_name": "DescriptionStyleModel",
            "_view_count": null,
            "_view_module": "@jupyter-widgets/base",
            "_view_module_version": "1.2.0",
            "_view_name": "StyleView",
            "description_width": ""
          }
        },
        "06710681489a4acc8fde16f1aa85f705": {
          "model_module": "@jupyter-widgets/base",
          "model_name": "LayoutModel",
          "model_module_version": "1.2.0",
          "state": {
            "_model_module": "@jupyter-widgets/base",
            "_model_module_version": "1.2.0",
            "_model_name": "LayoutModel",
            "_view_count": null,
            "_view_module": "@jupyter-widgets/base",
            "_view_module_version": "1.2.0",
            "_view_name": "LayoutView",
            "align_content": null,
            "align_items": null,
            "align_self": null,
            "border": null,
            "bottom": null,
            "display": null,
            "flex": null,
            "flex_flow": null,
            "grid_area": null,
            "grid_auto_columns": null,
            "grid_auto_flow": null,
            "grid_auto_rows": null,
            "grid_column": null,
            "grid_gap": null,
            "grid_row": null,
            "grid_template_areas": null,
            "grid_template_columns": null,
            "grid_template_rows": null,
            "height": null,
            "justify_content": null,
            "justify_items": null,
            "left": null,
            "margin": null,
            "max_height": null,
            "max_width": null,
            "min_height": null,
            "min_width": null,
            "object_fit": null,
            "object_position": null,
            "order": null,
            "overflow": null,
            "overflow_x": null,
            "overflow_y": null,
            "padding": null,
            "right": null,
            "top": null,
            "visibility": null,
            "width": null
          }
        },
        "e30b35eefcf744578965d38037cf6fda": {
          "model_module": "@jupyter-widgets/controls",
          "model_name": "ProgressStyleModel",
          "model_module_version": "1.5.0",
          "state": {
            "_model_module": "@jupyter-widgets/controls",
            "_model_module_version": "1.5.0",
            "_model_name": "ProgressStyleModel",
            "_view_count": null,
            "_view_module": "@jupyter-widgets/base",
            "_view_module_version": "1.2.0",
            "_view_name": "StyleView",
            "bar_color": null,
            "description_width": ""
          }
        },
        "ad994b0fae48473aa58ddbcb3838e773": {
          "model_module": "@jupyter-widgets/base",
          "model_name": "LayoutModel",
          "model_module_version": "1.2.0",
          "state": {
            "_model_module": "@jupyter-widgets/base",
            "_model_module_version": "1.2.0",
            "_model_name": "LayoutModel",
            "_view_count": null,
            "_view_module": "@jupyter-widgets/base",
            "_view_module_version": "1.2.0",
            "_view_name": "LayoutView",
            "align_content": null,
            "align_items": null,
            "align_self": null,
            "border": null,
            "bottom": null,
            "display": null,
            "flex": null,
            "flex_flow": null,
            "grid_area": null,
            "grid_auto_columns": null,
            "grid_auto_flow": null,
            "grid_auto_rows": null,
            "grid_column": null,
            "grid_gap": null,
            "grid_row": null,
            "grid_template_areas": null,
            "grid_template_columns": null,
            "grid_template_rows": null,
            "height": null,
            "justify_content": null,
            "justify_items": null,
            "left": null,
            "margin": null,
            "max_height": null,
            "max_width": null,
            "min_height": null,
            "min_width": null,
            "object_fit": null,
            "object_position": null,
            "order": null,
            "overflow": null,
            "overflow_x": null,
            "overflow_y": null,
            "padding": null,
            "right": null,
            "top": null,
            "visibility": null,
            "width": null
          }
        },
        "8312def2055e420190d33775c77b7294": {
          "model_module": "@jupyter-widgets/controls",
          "model_name": "DescriptionStyleModel",
          "model_module_version": "1.5.0",
          "state": {
            "_model_module": "@jupyter-widgets/controls",
            "_model_module_version": "1.5.0",
            "_model_name": "DescriptionStyleModel",
            "_view_count": null,
            "_view_module": "@jupyter-widgets/base",
            "_view_module_version": "1.2.0",
            "_view_name": "StyleView",
            "description_width": ""
          }
        },
        "758790112a8947dda6d9efcfd17d38b4": {
          "model_module": "@jupyter-widgets/controls",
          "model_name": "HBoxModel",
          "model_module_version": "1.5.0",
          "state": {
            "_dom_classes": [],
            "_model_module": "@jupyter-widgets/controls",
            "_model_module_version": "1.5.0",
            "_model_name": "HBoxModel",
            "_view_count": null,
            "_view_module": "@jupyter-widgets/controls",
            "_view_module_version": "1.5.0",
            "_view_name": "HBoxView",
            "box_style": "",
            "children": [
              "IPY_MODEL_eb7373d7c97448ea8b0478f35d47c056",
              "IPY_MODEL_87b4194951a24a2c80bc3fbc9b070e86",
              "IPY_MODEL_37fea945546646229532fe63f75f2d9c"
            ],
            "layout": "IPY_MODEL_9fecc694ce164e6d88acd57ce1f610e2"
          }
        },
        "eb7373d7c97448ea8b0478f35d47c056": {
          "model_module": "@jupyter-widgets/controls",
          "model_name": "HTMLModel",
          "model_module_version": "1.5.0",
          "state": {
            "_dom_classes": [],
            "_model_module": "@jupyter-widgets/controls",
            "_model_module_version": "1.5.0",
            "_model_name": "HTMLModel",
            "_view_count": null,
            "_view_module": "@jupyter-widgets/controls",
            "_view_module_version": "1.5.0",
            "_view_name": "HTMLView",
            "description": "",
            "description_tooltip": null,
            "layout": "IPY_MODEL_775fe0abda374809a7ca168d1f69d7cc",
            "placeholder": "​",
            "style": "IPY_MODEL_1cbdae62c10648659110a51f7e2b3726",
            "value": "Map: 100%"
          }
        },
        "87b4194951a24a2c80bc3fbc9b070e86": {
          "model_module": "@jupyter-widgets/controls",
          "model_name": "FloatProgressModel",
          "model_module_version": "1.5.0",
          "state": {
            "_dom_classes": [],
            "_model_module": "@jupyter-widgets/controls",
            "_model_module_version": "1.5.0",
            "_model_name": "FloatProgressModel",
            "_view_count": null,
            "_view_module": "@jupyter-widgets/controls",
            "_view_module_version": "1.5.0",
            "_view_name": "ProgressView",
            "bar_style": "success",
            "description": "",
            "description_tooltip": null,
            "layout": "IPY_MODEL_ea3bfe47bf204e89ad5fb0c5c55417de",
            "max": 1000,
            "min": 0,
            "orientation": "horizontal",
            "style": "IPY_MODEL_1de8742688b24a7b80c83d75db21af5c",
            "value": 1000
          }
        },
        "37fea945546646229532fe63f75f2d9c": {
          "model_module": "@jupyter-widgets/controls",
          "model_name": "HTMLModel",
          "model_module_version": "1.5.0",
          "state": {
            "_dom_classes": [],
            "_model_module": "@jupyter-widgets/controls",
            "_model_module_version": "1.5.0",
            "_model_name": "HTMLModel",
            "_view_count": null,
            "_view_module": "@jupyter-widgets/controls",
            "_view_module_version": "1.5.0",
            "_view_name": "HTMLView",
            "description": "",
            "description_tooltip": null,
            "layout": "IPY_MODEL_ce3afb98de5f49008fef5a53d8df5be1",
            "placeholder": "​",
            "style": "IPY_MODEL_9f0495c5d2354d04a501665410975742",
            "value": " 1000/1000 [00:00&lt;00:00, 4304.62 examples/s]"
          }
        },
        "9fecc694ce164e6d88acd57ce1f610e2": {
          "model_module": "@jupyter-widgets/base",
          "model_name": "LayoutModel",
          "model_module_version": "1.2.0",
          "state": {
            "_model_module": "@jupyter-widgets/base",
            "_model_module_version": "1.2.0",
            "_model_name": "LayoutModel",
            "_view_count": null,
            "_view_module": "@jupyter-widgets/base",
            "_view_module_version": "1.2.0",
            "_view_name": "LayoutView",
            "align_content": null,
            "align_items": null,
            "align_self": null,
            "border": null,
            "bottom": null,
            "display": null,
            "flex": null,
            "flex_flow": null,
            "grid_area": null,
            "grid_auto_columns": null,
            "grid_auto_flow": null,
            "grid_auto_rows": null,
            "grid_column": null,
            "grid_gap": null,
            "grid_row": null,
            "grid_template_areas": null,
            "grid_template_columns": null,
            "grid_template_rows": null,
            "height": null,
            "justify_content": null,
            "justify_items": null,
            "left": null,
            "margin": null,
            "max_height": null,
            "max_width": null,
            "min_height": null,
            "min_width": null,
            "object_fit": null,
            "object_position": null,
            "order": null,
            "overflow": null,
            "overflow_x": null,
            "overflow_y": null,
            "padding": null,
            "right": null,
            "top": null,
            "visibility": null,
            "width": null
          }
        },
        "775fe0abda374809a7ca168d1f69d7cc": {
          "model_module": "@jupyter-widgets/base",
          "model_name": "LayoutModel",
          "model_module_version": "1.2.0",
          "state": {
            "_model_module": "@jupyter-widgets/base",
            "_model_module_version": "1.2.0",
            "_model_name": "LayoutModel",
            "_view_count": null,
            "_view_module": "@jupyter-widgets/base",
            "_view_module_version": "1.2.0",
            "_view_name": "LayoutView",
            "align_content": null,
            "align_items": null,
            "align_self": null,
            "border": null,
            "bottom": null,
            "display": null,
            "flex": null,
            "flex_flow": null,
            "grid_area": null,
            "grid_auto_columns": null,
            "grid_auto_flow": null,
            "grid_auto_rows": null,
            "grid_column": null,
            "grid_gap": null,
            "grid_row": null,
            "grid_template_areas": null,
            "grid_template_columns": null,
            "grid_template_rows": null,
            "height": null,
            "justify_content": null,
            "justify_items": null,
            "left": null,
            "margin": null,
            "max_height": null,
            "max_width": null,
            "min_height": null,
            "min_width": null,
            "object_fit": null,
            "object_position": null,
            "order": null,
            "overflow": null,
            "overflow_x": null,
            "overflow_y": null,
            "padding": null,
            "right": null,
            "top": null,
            "visibility": null,
            "width": null
          }
        },
        "1cbdae62c10648659110a51f7e2b3726": {
          "model_module": "@jupyter-widgets/controls",
          "model_name": "DescriptionStyleModel",
          "model_module_version": "1.5.0",
          "state": {
            "_model_module": "@jupyter-widgets/controls",
            "_model_module_version": "1.5.0",
            "_model_name": "DescriptionStyleModel",
            "_view_count": null,
            "_view_module": "@jupyter-widgets/base",
            "_view_module_version": "1.2.0",
            "_view_name": "StyleView",
            "description_width": ""
          }
        },
        "ea3bfe47bf204e89ad5fb0c5c55417de": {
          "model_module": "@jupyter-widgets/base",
          "model_name": "LayoutModel",
          "model_module_version": "1.2.0",
          "state": {
            "_model_module": "@jupyter-widgets/base",
            "_model_module_version": "1.2.0",
            "_model_name": "LayoutModel",
            "_view_count": null,
            "_view_module": "@jupyter-widgets/base",
            "_view_module_version": "1.2.0",
            "_view_name": "LayoutView",
            "align_content": null,
            "align_items": null,
            "align_self": null,
            "border": null,
            "bottom": null,
            "display": null,
            "flex": null,
            "flex_flow": null,
            "grid_area": null,
            "grid_auto_columns": null,
            "grid_auto_flow": null,
            "grid_auto_rows": null,
            "grid_column": null,
            "grid_gap": null,
            "grid_row": null,
            "grid_template_areas": null,
            "grid_template_columns": null,
            "grid_template_rows": null,
            "height": null,
            "justify_content": null,
            "justify_items": null,
            "left": null,
            "margin": null,
            "max_height": null,
            "max_width": null,
            "min_height": null,
            "min_width": null,
            "object_fit": null,
            "object_position": null,
            "order": null,
            "overflow": null,
            "overflow_x": null,
            "overflow_y": null,
            "padding": null,
            "right": null,
            "top": null,
            "visibility": null,
            "width": null
          }
        },
        "1de8742688b24a7b80c83d75db21af5c": {
          "model_module": "@jupyter-widgets/controls",
          "model_name": "ProgressStyleModel",
          "model_module_version": "1.5.0",
          "state": {
            "_model_module": "@jupyter-widgets/controls",
            "_model_module_version": "1.5.0",
            "_model_name": "ProgressStyleModel",
            "_view_count": null,
            "_view_module": "@jupyter-widgets/base",
            "_view_module_version": "1.2.0",
            "_view_name": "StyleView",
            "bar_color": null,
            "description_width": ""
          }
        },
        "ce3afb98de5f49008fef5a53d8df5be1": {
          "model_module": "@jupyter-widgets/base",
          "model_name": "LayoutModel",
          "model_module_version": "1.2.0",
          "state": {
            "_model_module": "@jupyter-widgets/base",
            "_model_module_version": "1.2.0",
            "_model_name": "LayoutModel",
            "_view_count": null,
            "_view_module": "@jupyter-widgets/base",
            "_view_module_version": "1.2.0",
            "_view_name": "LayoutView",
            "align_content": null,
            "align_items": null,
            "align_self": null,
            "border": null,
            "bottom": null,
            "display": null,
            "flex": null,
            "flex_flow": null,
            "grid_area": null,
            "grid_auto_columns": null,
            "grid_auto_flow": null,
            "grid_auto_rows": null,
            "grid_column": null,
            "grid_gap": null,
            "grid_row": null,
            "grid_template_areas": null,
            "grid_template_columns": null,
            "grid_template_rows": null,
            "height": null,
            "justify_content": null,
            "justify_items": null,
            "left": null,
            "margin": null,
            "max_height": null,
            "max_width": null,
            "min_height": null,
            "min_width": null,
            "object_fit": null,
            "object_position": null,
            "order": null,
            "overflow": null,
            "overflow_x": null,
            "overflow_y": null,
            "padding": null,
            "right": null,
            "top": null,
            "visibility": null,
            "width": null
          }
        },
        "9f0495c5d2354d04a501665410975742": {
          "model_module": "@jupyter-widgets/controls",
          "model_name": "DescriptionStyleModel",
          "model_module_version": "1.5.0",
          "state": {
            "_model_module": "@jupyter-widgets/controls",
            "_model_module_version": "1.5.0",
            "_model_name": "DescriptionStyleModel",
            "_view_count": null,
            "_view_module": "@jupyter-widgets/base",
            "_view_module_version": "1.2.0",
            "_view_name": "StyleView",
            "description_width": ""
          }
        }
      }
    }
  },
  "cells": [
    {
      "cell_type": "markdown",
      "metadata": {
        "id": "view-in-github",
        "colab_type": "text"
      },
      "source": [
        "<a href=\"https://colab.research.google.com/github/Tonic4to/Disease-Identification-And-prevention/blob/main/IPM_data_text_model.ipynb\" target=\"_parent\"><img src=\"https://colab.research.google.com/assets/colab-badge.svg\" alt=\"Open In Colab\"/></a>"
      ]
    },
    {
      "cell_type": "code",
      "execution_count": null,
      "metadata": {
        "id": "pZQZne2CkyZA"
      },
      "outputs": [],
      "source": [
        "import requests\n",
        "from bs4 import BeautifulSoup\n",
        "import csv\n",
        "import re\n",
        "from google.colab import files\n",
        "import pandas as pd"
      ]
    },
    {
      "cell_type": "markdown",
      "source": [
        "#**Function to get URLs from IPM and access to scrape all valid links with data**"
      ],
      "metadata": {
        "id": "YHOMepxTk7Ex"
      }
    },
    {
      "cell_type": "code",
      "source": [
        "def fetch_page(url):\n",
        "    response = requests.get(url)\n",
        "    response.raise_for_status()\n",
        "    return BeautifulSoup(response.text, 'html.parser')\n",
        "\n",
        "def scrape_main_page(main_page_url):\n",
        "  soup = fetch_page(main_page_url)\n",
        "  links = soup.find_all('a', href=True)\n",
        "  valid_links = [link['href'] for link in links if link['href'].startswith('https://ipmdata.ipmcenters.org/source_report.cfm?view=yes&sourceid=')]\n",
        "  return valid_links\n"
      ],
      "metadata": {
        "id": "Sw_tOxD8lbiV"
      },
      "execution_count": null,
      "outputs": []
    },
    {
      "cell_type": "markdown",
      "source": [
        "# **Extract location and crop from information table in URL**"
      ],
      "metadata": {
        "id": "YwZa0NoElgFE"
      }
    },
    {
      "cell_type": "code",
      "source": [
        "def extract_settings_and_region(soup):\n",
        "    settings = None\n",
        "    region = None\n",
        "    tables = soup.find_all('table')\n",
        "\n",
        "    for table in tables:\n",
        "        rows = table.find_all('tr')\n",
        "        for row in rows:\n",
        "            cells = row.find_all('td')\n",
        "            if len(cells) >= 2:\n",
        "                header = cells[0].get_text(strip=True)\n",
        "                value = cells[1].get_text(strip=True)\n",
        "                if header == 'Settings':\n",
        "                    settings = value\n",
        "                elif header == 'Region':\n",
        "                    region = value\n",
        "\n",
        "    return settings, region"
      ],
      "metadata": {
        "id": "3Mzj5qkrlfeL"
      },
      "execution_count": null,
      "outputs": []
    },
    {
      "cell_type": "markdown",
      "source": [
        "# **Clean pest name and lowercase to normalize**"
      ],
      "metadata": {
        "id": "2RKQsvpKlu7W"
      }
    },
    {
      "cell_type": "code",
      "source": [
        "def clean_pest_name(pest_name):\n",
        "    # Convert to lowercase and remove unwanted characters using regex\n",
        "    cleaned_name = re.sub(r'[^a-z0-9\\s]', '', pest_name.lower())\n",
        "    return cleaned_name.strip()"
      ],
      "metadata": {
        "id": "BbGS_YsrltZA"
      },
      "execution_count": null,
      "outputs": []
    },
    {
      "cell_type": "markdown",
      "source": [
        "# **Extract pest | active ingredient | rating data if available**"
      ],
      "metadata": {
        "id": "MnqIcHdGl4nt"
      }
    },
    {
      "cell_type": "code",
      "source": [
        "def extract_pests(soup):\n",
        "    pests_data = []\n",
        "    tables = soup.find_all('table', border='1', width='100%')\n",
        "    for table in tables:\n",
        "        thead = table.find('thead')\n",
        "        if thead:\n",
        "            headers = thead.find_all('th')\n",
        "            header_texts = [header.get_text(strip=True) for header in headers]\n",
        "            if 'Pest' in header_texts and 'Active Ingredient' in header_texts and 'Rating' in header_texts:\n",
        "                tbody = table.find('tbody')\n",
        "                if tbody:\n",
        "                    rows = tbody.find_all('tr')\n",
        "                    pest_index = header_texts.index('Pest')\n",
        "                    active_ingredient_index = header_texts.index('Active Ingredient')\n",
        "                    rating_index = header_texts.index('Rating')\n",
        "                    for row in rows:\n",
        "                        cells = row.find_all('td')\n",
        "                        if len(cells) > pest_index:\n",
        "                            pest_name = cells[pest_index].get_text(strip=True)\n",
        "                            active_ingredient = cells[active_ingredient_index].get_text(strip=True)\n",
        "                            rating = cells[rating_index].get_text(strip=True)\n",
        "                            cleaned_pest_name = clean_pest_name(pest_name)\n",
        "                            pests_data.append({\n",
        "                                'Pest': cleaned_pest_name,\n",
        "                                'Active Ingredient': active_ingredient,\n",
        "                                'Rating': rating\n",
        "                            })\n",
        "    return pests_data"
      ],
      "metadata": {
        "id": "nJoprwobmCe8"
      },
      "execution_count": null,
      "outputs": []
    },
    {
      "cell_type": "markdown",
      "source": [
        "# **Combine into tabular format in CSV**"
      ],
      "metadata": {
        "id": "8Y4NaPcRmWTp"
      }
    },
    {
      "cell_type": "code",
      "source": [
        "def write_combined_data_to_csv(data, filename):\n",
        "    with open(filename, 'w', newline='', encoding='utf-8') as csvfile:\n",
        "        writer = csv.DictWriter(csvfile, fieldnames=['Crop', 'Location', 'Pest', 'Active Ingredient', 'Rating'])\n",
        "        writer.writeheader()\n",
        "        for entry in data:\n",
        "            writer.writerow(entry)"
      ],
      "metadata": {
        "id": "sP_qgO7VmghF"
      },
      "execution_count": null,
      "outputs": []
    },
    {
      "cell_type": "markdown",
      "source": [
        "Extra if needed - count rows in CSV"
      ],
      "metadata": {
        "id": "5XO-oSlCq4SB"
      }
    },
    {
      "cell_type": "code",
      "source": [
        "def count_rows_in_csv(filename):\n",
        "    df = pd.read_csv(filename)\n",
        "    num_rows = df.shape[0]\n",
        "    print(f'The CSV file has {num_rows} rows.')"
      ],
      "metadata": {
        "id": "Vlkcdy5Iq_u2"
      },
      "execution_count": null,
      "outputs": []
    },
    {
      "cell_type": "markdown",
      "source": [
        "# **Main and store to drive**"
      ],
      "metadata": {
        "id": "nz-LyBRiml5P"
      }
    },
    {
      "cell_type": "code",
      "source": [
        "from google.colab import drive\n",
        "drive.mount('/content/drive')\n"
      ],
      "metadata": {
        "colab": {
          "base_uri": "https://localhost:8080/",
          "height": 304
        },
        "id": "V2LDWpcjoFFk",
        "outputId": "b8809693-cd5f-4e7f-a588-b549bb0ffe45",
        "collapsed": true
      },
      "execution_count": null,
      "outputs": [
        {
          "output_type": "error",
          "ename": "MessageError",
          "evalue": "Error: credential propagation was unsuccessful",
          "traceback": [
            "\u001b[0;31m---------------------------------------------------------------------------\u001b[0m",
            "\u001b[0;31mMessageError\u001b[0m                              Traceback (most recent call last)",
            "\u001b[0;32m<ipython-input-9-d5df0069828e>\u001b[0m in \u001b[0;36m<cell line: 2>\u001b[0;34m()\u001b[0m\n\u001b[1;32m      1\u001b[0m \u001b[0;32mfrom\u001b[0m \u001b[0mgoogle\u001b[0m\u001b[0;34m.\u001b[0m\u001b[0mcolab\u001b[0m \u001b[0;32mimport\u001b[0m \u001b[0mdrive\u001b[0m\u001b[0;34m\u001b[0m\u001b[0;34m\u001b[0m\u001b[0m\n\u001b[0;32m----> 2\u001b[0;31m \u001b[0mdrive\u001b[0m\u001b[0;34m.\u001b[0m\u001b[0mmount\u001b[0m\u001b[0;34m(\u001b[0m\u001b[0;34m'/content/drive'\u001b[0m\u001b[0;34m)\u001b[0m\u001b[0;34m\u001b[0m\u001b[0;34m\u001b[0m\u001b[0m\n\u001b[0m",
            "\u001b[0;32m/usr/local/lib/python3.10/dist-packages/google/colab/drive.py\u001b[0m in \u001b[0;36mmount\u001b[0;34m(mountpoint, force_remount, timeout_ms, readonly)\u001b[0m\n\u001b[1;32m     98\u001b[0m \u001b[0;32mdef\u001b[0m \u001b[0mmount\u001b[0m\u001b[0;34m(\u001b[0m\u001b[0mmountpoint\u001b[0m\u001b[0;34m,\u001b[0m \u001b[0mforce_remount\u001b[0m\u001b[0;34m=\u001b[0m\u001b[0;32mFalse\u001b[0m\u001b[0;34m,\u001b[0m \u001b[0mtimeout_ms\u001b[0m\u001b[0;34m=\u001b[0m\u001b[0;36m120000\u001b[0m\u001b[0;34m,\u001b[0m \u001b[0mreadonly\u001b[0m\u001b[0;34m=\u001b[0m\u001b[0;32mFalse\u001b[0m\u001b[0;34m)\u001b[0m\u001b[0;34m:\u001b[0m\u001b[0;34m\u001b[0m\u001b[0;34m\u001b[0m\u001b[0m\n\u001b[1;32m     99\u001b[0m   \u001b[0;34m\"\"\"Mount your Google Drive at the specified mountpoint path.\"\"\"\u001b[0m\u001b[0;34m\u001b[0m\u001b[0;34m\u001b[0m\u001b[0m\n\u001b[0;32m--> 100\u001b[0;31m   return _mount(\n\u001b[0m\u001b[1;32m    101\u001b[0m       \u001b[0mmountpoint\u001b[0m\u001b[0;34m,\u001b[0m\u001b[0;34m\u001b[0m\u001b[0;34m\u001b[0m\u001b[0m\n\u001b[1;32m    102\u001b[0m       \u001b[0mforce_remount\u001b[0m\u001b[0;34m=\u001b[0m\u001b[0mforce_remount\u001b[0m\u001b[0;34m,\u001b[0m\u001b[0;34m\u001b[0m\u001b[0;34m\u001b[0m\u001b[0m\n",
            "\u001b[0;32m/usr/local/lib/python3.10/dist-packages/google/colab/drive.py\u001b[0m in \u001b[0;36m_mount\u001b[0;34m(mountpoint, force_remount, timeout_ms, ephemeral, readonly)\u001b[0m\n\u001b[1;32m    131\u001b[0m   )\n\u001b[1;32m    132\u001b[0m   \u001b[0;32mif\u001b[0m \u001b[0mephemeral\u001b[0m\u001b[0;34m:\u001b[0m\u001b[0;34m\u001b[0m\u001b[0;34m\u001b[0m\u001b[0m\n\u001b[0;32m--> 133\u001b[0;31m     _message.blocking_request(\n\u001b[0m\u001b[1;32m    134\u001b[0m         \u001b[0;34m'request_auth'\u001b[0m\u001b[0;34m,\u001b[0m\u001b[0;34m\u001b[0m\u001b[0;34m\u001b[0m\u001b[0m\n\u001b[1;32m    135\u001b[0m         \u001b[0mrequest\u001b[0m\u001b[0;34m=\u001b[0m\u001b[0;34m{\u001b[0m\u001b[0;34m'authType'\u001b[0m\u001b[0;34m:\u001b[0m \u001b[0;34m'dfs_ephemeral'\u001b[0m\u001b[0;34m}\u001b[0m\u001b[0;34m,\u001b[0m\u001b[0;34m\u001b[0m\u001b[0;34m\u001b[0m\u001b[0m\n",
            "\u001b[0;32m/usr/local/lib/python3.10/dist-packages/google/colab/_message.py\u001b[0m in \u001b[0;36mblocking_request\u001b[0;34m(request_type, request, timeout_sec, parent)\u001b[0m\n\u001b[1;32m    174\u001b[0m       \u001b[0mrequest_type\u001b[0m\u001b[0;34m,\u001b[0m \u001b[0mrequest\u001b[0m\u001b[0;34m,\u001b[0m \u001b[0mparent\u001b[0m\u001b[0;34m=\u001b[0m\u001b[0mparent\u001b[0m\u001b[0;34m,\u001b[0m \u001b[0mexpect_reply\u001b[0m\u001b[0;34m=\u001b[0m\u001b[0;32mTrue\u001b[0m\u001b[0;34m\u001b[0m\u001b[0;34m\u001b[0m\u001b[0m\n\u001b[1;32m    175\u001b[0m   )\n\u001b[0;32m--> 176\u001b[0;31m   \u001b[0;32mreturn\u001b[0m \u001b[0mread_reply_from_input\u001b[0m\u001b[0;34m(\u001b[0m\u001b[0mrequest_id\u001b[0m\u001b[0;34m,\u001b[0m \u001b[0mtimeout_sec\u001b[0m\u001b[0;34m)\u001b[0m\u001b[0;34m\u001b[0m\u001b[0;34m\u001b[0m\u001b[0m\n\u001b[0m",
            "\u001b[0;32m/usr/local/lib/python3.10/dist-packages/google/colab/_message.py\u001b[0m in \u001b[0;36mread_reply_from_input\u001b[0;34m(message_id, timeout_sec)\u001b[0m\n\u001b[1;32m    101\u001b[0m     ):\n\u001b[1;32m    102\u001b[0m       \u001b[0;32mif\u001b[0m \u001b[0;34m'error'\u001b[0m \u001b[0;32min\u001b[0m \u001b[0mreply\u001b[0m\u001b[0;34m:\u001b[0m\u001b[0;34m\u001b[0m\u001b[0;34m\u001b[0m\u001b[0m\n\u001b[0;32m--> 103\u001b[0;31m         \u001b[0;32mraise\u001b[0m \u001b[0mMessageError\u001b[0m\u001b[0;34m(\u001b[0m\u001b[0mreply\u001b[0m\u001b[0;34m[\u001b[0m\u001b[0;34m'error'\u001b[0m\u001b[0;34m]\u001b[0m\u001b[0;34m)\u001b[0m\u001b[0;34m\u001b[0m\u001b[0;34m\u001b[0m\u001b[0m\n\u001b[0m\u001b[1;32m    104\u001b[0m       \u001b[0;32mreturn\u001b[0m \u001b[0mreply\u001b[0m\u001b[0;34m.\u001b[0m\u001b[0mget\u001b[0m\u001b[0;34m(\u001b[0m\u001b[0;34m'data'\u001b[0m\u001b[0;34m,\u001b[0m \u001b[0;32mNone\u001b[0m\u001b[0;34m)\u001b[0m\u001b[0;34m\u001b[0m\u001b[0;34m\u001b[0m\u001b[0m\n\u001b[1;32m    105\u001b[0m \u001b[0;34m\u001b[0m\u001b[0m\n",
            "\u001b[0;31mMessageError\u001b[0m: Error: credential propagation was unsuccessful"
          ]
        }
      ]
    },
    {
      "cell_type": "code",
      "source": [
        "def write_combined_data_to_csv(data, filename='combined_data.csv'):\n",
        "    path = '/content/drive/My Drive/' + filename\n",
        "    data.to_csv(path, index=False)"
      ],
      "metadata": {
        "id": "GflqD8EyoXrj"
      },
      "execution_count": null,
      "outputs": []
    },
    {
      "cell_type": "code",
      "source": [
        "def main():\n",
        "    main_page_url = 'https://ipmdata.ipmcenters.org/source_list.cfm?sourcetypeid=4'\n",
        "    links = scrape_main_page(main_page_url)\n",
        "\n",
        "    all_data = []  # List to store all combined data\n",
        "\n",
        "    for link in links:\n",
        "        soup = fetch_page(link)\n",
        "        settings, region = extract_settings_and_region(soup)\n",
        "        pests_data = extract_pests(soup)\n",
        "\n",
        "        if pests_data:\n",
        "            for pest_info in pests_data:\n",
        "                pest_info['Crop'] = settings\n",
        "                pest_info['Location'] = region\n",
        "                all_data.append(pest_info)  # Add data to the list\n",
        "\n",
        "    # Convert all_data to a DataFrame\n",
        "    df = pd.DataFrame(all_data)\n",
        "\n",
        "    # Write the combined data to a CSV file\n",
        "    write_combined_data_to_csv(df, 'combined_data.csv')\n",
        "\n",
        "    count_rows_in_csv('/content/drive/My Drive/combined_data.csv')\n",
        "\n",
        "    print(\"Combined data has been written to 'combined_data.csv'.\")\n",
        "\n",
        "if __name__ == '__main__':\n",
        "    main()\n"
      ],
      "metadata": {
        "colab": {
          "base_uri": "https://localhost:8080/"
        },
        "id": "5IvQ4UoMmorA",
        "outputId": "417c2ec9-6b59-48c0-eb81-2e093c72d291"
      },
      "execution_count": null,
      "outputs": [
        {
          "output_type": "stream",
          "name": "stdout",
          "text": [
            "The CSV file has 163518 rows.\n",
            "Combined data has been written to 'combined_data.csv'.\n"
          ]
        }
      ]
    },
    {
      "cell_type": "markdown",
      "source": [
        "Possibility to download (if drive is not functional)"
      ],
      "metadata": {
        "id": "BIC5Z0jgoGmR"
      }
    },
    {
      "cell_type": "code",
      "source": [
        "''' from google.colab import files\n",
        "files.download('combined_data.csv') '''"
      ],
      "metadata": {
        "id": "3hah7QjAm2sE"
      },
      "execution_count": null,
      "outputs": []
    },
    {
      "cell_type": "markdown",
      "source": [
        "# **Model (Data Preparation) - Start from here if CSV is in drive**"
      ],
      "metadata": {
        "id": "WcNgNR80nIfC"
      }
    },
    {
      "cell_type": "code",
      "source": [
        "# @title Kill function to restart runtime\n",
        "import os\n",
        "import sys\n",
        "\n",
        "def restart_runtime():\n",
        "    os.kill(os.getpid(), 9)\n",
        "\n",
        "restart_runtime()"
      ],
      "metadata": {
        "cellView": "form",
        "id": "RcoETZBupUGZ"
      },
      "execution_count": null,
      "outputs": []
    },
    {
      "cell_type": "code",
      "source": [
        "!pip install torch"
      ],
      "metadata": {
        "colab": {
          "base_uri": "https://localhost:8080/"
        },
        "collapsed": true,
        "id": "LtNz-Abt7CoY",
        "outputId": "1784463f-aa66-47d0-a33d-363416e5b3dd"
      },
      "execution_count": null,
      "outputs": [
        {
          "output_type": "stream",
          "name": "stdout",
          "text": [
            "\u001b[31mERROR: Operation cancelled by user\u001b[0m\u001b[31m\n",
            "\u001b[0m"
          ]
        }
      ]
    },
    {
      "cell_type": "code",
      "source": [
        "!pip install datasets"
      ],
      "metadata": {
        "collapsed": true,
        "id": "-KgkZLRWx9MR"
      },
      "execution_count": null,
      "outputs": []
    },
    {
      "cell_type": "code",
      "source": [
        "from google.colab import drive\n",
        "drive.mount('/content/drive')\n"
      ],
      "metadata": {
        "colab": {
          "base_uri": "https://localhost:8080/"
        },
        "outputId": "16cd7c5e-82b5-4ebd-9876-92bd35ac3dca",
        "id": "t4kCYWtoCspG"
      },
      "execution_count": null,
      "outputs": [
        {
          "output_type": "stream",
          "name": "stdout",
          "text": [
            "Mounted at /content/drive\n"
          ]
        }
      ]
    },
    {
      "cell_type": "code",
      "source": [
        "import pandas as pd\n",
        "import torch\n",
        "import numpy as np\n",
        "from transformers import AutoTokenizer\n",
        "from transformers import AutoModelForSequenceClassification, Trainer, TrainingArguments\n",
        "from transformers import TrainerCallback\n",
        "from torch.optim.lr_scheduler import ReduceLROnPlateau\n",
        "from datasets import DatasetDict\n",
        "from datasets import Dataset\n",
        "from sklearn.model_selection import train_test_split\n",
        "from sklearn.metrics import accuracy_score\n",
        "from sklearn.metrics import precision_score, recall_score, classification_report"
      ],
      "metadata": {
        "id": "M8ZvPajQx3ci",
        "collapsed": true
      },
      "execution_count": null,
      "outputs": []
    },
    {
      "cell_type": "code",
      "source": [
        "\n",
        "def load_csv_from_drive(filename):\n",
        "    path = '/content/drive/My Drive/' + filename\n",
        "    return pd.read_csv(path)\n",
        "\n",
        "combined_table = load_csv_from_drive('combined_data.csv')\n",
        "\n",
        "print(\"Column names in the CSV file:\")\n",
        "print(combined_table.columns)\n"
      ],
      "metadata": {
        "colab": {
          "base_uri": "https://localhost:8080/"
        },
        "id": "9c44TjfsurUr",
        "outputId": "a6fc35b2-dfb7-449d-f356-2e9a69842043",
        "collapsed": true
      },
      "execution_count": null,
      "outputs": [
        {
          "output_type": "stream",
          "name": "stdout",
          "text": [
            "Column names in the CSV file:\n",
            "Index(['Pest', 'Active Ingredient', 'Rating', 'Crop', 'Location'], dtype='object')\n"
          ]
        }
      ]
    },
    {
      "cell_type": "code",
      "source": [
        "def create_text_entry(row):\n",
        "    return (f\"Crop: {row['Crop']}\\n\"\n",
        "            f\"Location: {row['Location']}\\n\"\n",
        "            f\"Pest/Disease/etc: {row['Pest']}\\n\"\n",
        "            f\"Solution: {row['Active Ingredient']}\\n\"\n",
        "            f\"Rating: {row['Rating']}\\n\")\n",
        "\n",
        "combined_table = load_csv_from_drive('combined_data.csv')\n",
        "\n",
        "text_entries = combined_table.apply(create_text_entry, axis=1)\n",
        "\n",
        "# Save the text data to a file\n",
        "text_file_path = '/content/drive/My Drive/pest_info.txt'\n",
        "with open(text_file_path, 'w') as f:\n",
        "    for entry in text_entries:\n",
        "        f.write(entry + \"\\n\")\n"
      ],
      "metadata": {
        "id": "JRjcAWEstdoe"
      },
      "execution_count": null,
      "outputs": []
    },
    {
      "cell_type": "code",
      "source": [
        "# Read and print the first 5 rows of the text file\n",
        "with open(text_file_path, 'r') as f:\n",
        "    lines = f.readlines()\n",
        "    print(''.join(lines[:5]))"
      ],
      "metadata": {
        "colab": {
          "base_uri": "https://localhost:8080/"
        },
        "id": "xYPdENb4vBzN",
        "outputId": "0672566e-639e-493d-d080-359705f81634"
      },
      "execution_count": null,
      "outputs": [
        {
          "output_type": "stream",
          "name": "stdout",
          "text": [
            "Crop: Pine Tree, Tree Nursery\n",
            "Location: Southern\n",
            "Pest/Disease/etc: armyworms\n",
            "Solution: Permethrin\n",
            "Rating: Excellent, 90-100%\n",
            "\n"
          ]
        }
      ]
    },
    {
      "cell_type": "markdown",
      "source": [
        "# **Open text file and reorganize DataFrame**"
      ],
      "metadata": {
        "id": "VND-fi9exKUC"
      }
    },
    {
      "cell_type": "code",
      "source": [
        "# Load the data from the text file\n",
        "with open('/content/drive/My Drive/pest_info.txt', 'r') as file:\n",
        "    lines = file.readlines()\n",
        "\n",
        "# Process lines into a list of dictionaries\n",
        "data = []\n",
        "for i in range(0, len(lines), 6):\n",
        "    entry = {\n",
        "        'Crop': lines[i].replace('Crop: ', '').strip(),\n",
        "        'Location': lines[i+1].replace('Location: ', '').strip(),\n",
        "        'Pest/Disease/etc': lines[i+2].replace('Pest/Disease/etc: ', '').strip(),\n",
        "        'Solution': lines[i+3].replace('Solution: ', '').strip(),\n",
        "        'Rating': lines[i+4].replace('Rating: ', '').strip()\n",
        "    }\n",
        "    data.append(entry)\n",
        "\n",
        "df = pd.DataFrame(data)\n",
        "\n",
        "\n",
        "df = df.dropna(subset=['Solution'])\n",
        "df = df[df['Solution'].str.strip() != '']\n",
        "df = df[df['Solution'].str.strip() != 'nan']\n",
        "df = df.dropna(subset=['Rating'])\n",
        "df = df[df['Rating'].str.strip() != '']\n",
        "df = df[df['Rating'].str.strip() != 'nan']\n",
        "\n",
        "desired_ratings = [\n",
        "    'Good to Excellent, 80-100%',\n",
        "    'Excellent, 90-100%',\n",
        "    'Good, 80-90%',\n",
        "    'Good to Excellent, 80-100%',\n",
        "    'Fair to Good, 50-90%',\n",
        "    'Fair to Excellent, 50-100%',\n",
        "    'Excellent, more research needed',\n",
        "    'highly effective for control of indicated disease',\n",
        "    'effective for control of indicated disease,',\n",
        "    'very good'\n",
        "]\n",
        "\n",
        "df = df[df['Rating'].isin(desired_ratings)]\n",
        "\n",
        "df['text'] = df.apply(lambda row: f\"Crop: {row['Crop']}\\nLocation: {row['Location']}\\nPest/Disease/etc: {row['Pest/Disease/etc']}\\nSolution: {row['Solution']}\\nRating: {row['Rating']}\", axis=1)\n",
        "\n",
        "print(df.head())\n",
        "print(df.shape)"
      ],
      "metadata": {
        "colab": {
          "base_uri": "https://localhost:8080/"
        },
        "id": "zVPEUcQPwgXJ",
        "outputId": "78d4cb30-f6c1-4bf3-d1ba-6b32c94a3fcf"
      },
      "execution_count": null,
      "outputs": [
        {
          "output_type": "stream",
          "name": "stdout",
          "text": [
            "                      Crop  Location  Pest/Disease/etc    Solution  \\\n",
            "0  Pine Tree, Tree Nursery  Southern         armyworms  Permethrin   \n",
            "1  Pine Tree, Tree Nursery  Southern  conifer sawflies    Acephate   \n",
            "2  Pine Tree, Tree Nursery  Southern  conifer sawflies  Bifenthrin   \n",
            "3  Pine Tree, Tree Nursery  Southern  conifer sawflies    Carbaryl   \n",
            "4  Pine Tree, Tree Nursery  Southern  conifer sawflies  Cyfluthrin   \n",
            "\n",
            "               Rating                                               text  \n",
            "0  Excellent, 90-100%  Crop: Pine Tree, Tree Nursery\\nLocation: South...  \n",
            "1        Good, 80-90%  Crop: Pine Tree, Tree Nursery\\nLocation: South...  \n",
            "2        Good, 80-90%  Crop: Pine Tree, Tree Nursery\\nLocation: South...  \n",
            "3        Good, 80-90%  Crop: Pine Tree, Tree Nursery\\nLocation: South...  \n",
            "4        Good, 80-90%  Crop: Pine Tree, Tree Nursery\\nLocation: South...  \n",
            "(51988, 6)\n"
          ]
        }
      ]
    },
    {
      "cell_type": "markdown",
      "source": [
        "# **Encode labels - Train and Test**"
      ],
      "metadata": {
        "id": "sY10Vkf7yPI3"
      }
    },
    {
      "cell_type": "code",
      "source": [
        "sample_size = 5000\n",
        "sampled_df = df.sample(n=sample_size, random_state=42)\n",
        "\n",
        "if 'spinach' not in sampled_df['Crop'].str.lower().unique():\n",
        "    spinach_df = df[df['Crop'].str.lower() == 'spinach']\n",
        "\n",
        "    spinach_sample_size = min(len(spinach_df), 500)\n",
        "    sampled_spinach_df = spinach_df.sample(n=spinach_sample_size, random_state=42)\n",
        "\n",
        "    remaining_size = sample_size - spinach_sample_size\n",
        "    remaining_df = df[df['Crop'].str.lower() != 'spinach']\n",
        "\n",
        "    sampled_remaining_df = remaining_df.sample(n=remaining_size, random_state=42) if remaining_size > 0 else pd.DataFrame()\n",
        "\n",
        "    sampled_df = pd.concat([sampled_spinach_df, sampled_remaining_df])\n",
        "else:\n",
        "    sampled_df = sampled_df\n",
        "\n",
        "# Encode label\n",
        "label_encoder = {label: idx for idx, label in enumerate(df['Solution'].unique())}\n",
        "sampled_df['label'] = sampled_df['Solution'].map(label_encoder)\n",
        "\n",
        "# Split into train and test sets\n",
        "train_df, test_df = train_test_split(sampled_df, test_size=0.2, random_state=42)\n",
        "\n",
        "# Convert the DataFrames to Hugging Face Datasets\n",
        "train_dataset = Dataset.from_pandas(train_df)\n",
        "test_dataset = Dataset.from_pandas(test_df)"
      ],
      "metadata": {
        "id": "dXpd0ym0yLOF",
        "collapsed": true
      },
      "execution_count": null,
      "outputs": []
    },
    {
      "cell_type": "code",
      "source": [
        "dataset_dict = DatasetDict({\n",
        "    'train': train_dataset,\n",
        "    'test': test_dataset\n",
        "})"
      ],
      "metadata": {
        "id": "A0gXruHG8-y_"
      },
      "execution_count": null,
      "outputs": []
    },
    {
      "cell_type": "code",
      "source": [
        "unique_plants = train_df['Crop'].unique()\n",
        "\n",
        "print(unique_plants)\n"
      ],
      "metadata": {
        "colab": {
          "base_uri": "https://localhost:8080/"
        },
        "id": "YeCHaL3_y05m",
        "outputId": "8e9e65f2-bab0-4785-fd30-cc5886ec5af6"
      },
      "execution_count": null,
      "outputs": [
        {
          "output_type": "stream",
          "name": "stdout",
          "text": [
            "['Alfalfa' 'Chickpea, Lentil, Pea, Dry, Pulse' 'Apple' 'Mint' 'Peanut'\n",
            " 'Strawberry' 'Pepper' 'Peach' 'Wheat' 'Plum' 'Blueberry' 'Corn, Sweet'\n",
            " 'Christmas Trees' 'Nectarine' 'Celery' 'Cotton' 'Cherry, Tart'\n",
            " 'Bean, Snap, Green' 'Cherry' 'Tomato' 'Carrot' 'Grape, Grape, Wine'\n",
            " 'Grape, Grape, Table' 'Potato' 'Ginseng' 'Pepper, Bell' 'Pear'\n",
            " 'Watermelon' 'Almond' 'Small Grain' 'Avocado' 'Onion, Onion, Bulb'\n",
            " 'Banana' 'Pine Tree, Tree Nursery' 'Kiwi' 'Cabbage' 'Cranberry'\n",
            " 'Sorghum, Grain' 'Asparagus' 'Blackberry' 'Olive' 'Spinach']\n"
          ]
        }
      ]
    },
    {
      "cell_type": "markdown",
      "source": [
        "# **Tokenizer**"
      ],
      "metadata": {
        "id": "q00UEUHRzDZR"
      }
    },
    {
      "cell_type": "code",
      "source": [
        "tokenizer = AutoTokenizer.from_pretrained(\"Intel/dynamic_tinybert\")\n",
        "\n",
        "def tokenize_function(examples):\n",
        "\n",
        "    # Tokenize text\n",
        "    tokens = tokenizer(examples['text'], padding='max_length', truncation=True, max_length=120)\n",
        "    tokens['labels'] = [label_encoder[label] for label in examples['Solution']]\n",
        "\n",
        "    # Convert numpy arrays to PyTorch tensors if necessary\n",
        "    tokens = {key: torch.tensor(val) for key, val in tokens.items()}\n",
        "    return tokens\n",
        "\n",
        "train_dataset = Dataset.from_pandas(train_df)\n",
        "test_dataset = Dataset.from_pandas(test_df)\n",
        "\n",
        "# Apply tokenization\n",
        "tokenized_train_dataset = train_dataset.map(tokenize_function, batched=True)\n",
        "tokenized_test_dataset = test_dataset.map(tokenize_function, batched=True)\n",
        "\n",
        "# Ensure datasets are properly formatted\n",
        "print(tokenized_train_dataset[0])\n",
        "print(tokenized_train_dataset.column_names)"
      ],
      "metadata": {
        "colab": {
          "base_uri": "https://localhost:8080/",
          "height": 136,
          "referenced_widgets": [
            "8dba0a95ef3e45129dfebd1e181f88d7",
            "a7d1cdca446a4d77bd0f12ec7d379116",
            "3ffa1e65044644a6bb85d852bd37cf4a",
            "977835226fdf4aaf849c6fff6a29a806",
            "841d5b3937c74d82b017947b5f56c0aa",
            "fecaf0e083184876aa815bc64e5d9403",
            "adf4faf454ac45cf98a4b082b64ade33",
            "06710681489a4acc8fde16f1aa85f705",
            "e30b35eefcf744578965d38037cf6fda",
            "ad994b0fae48473aa58ddbcb3838e773",
            "8312def2055e420190d33775c77b7294",
            "758790112a8947dda6d9efcfd17d38b4",
            "eb7373d7c97448ea8b0478f35d47c056",
            "87b4194951a24a2c80bc3fbc9b070e86",
            "37fea945546646229532fe63f75f2d9c",
            "9fecc694ce164e6d88acd57ce1f610e2",
            "775fe0abda374809a7ca168d1f69d7cc",
            "1cbdae62c10648659110a51f7e2b3726",
            "ea3bfe47bf204e89ad5fb0c5c55417de",
            "1de8742688b24a7b80c83d75db21af5c",
            "ce3afb98de5f49008fef5a53d8df5be1",
            "9f0495c5d2354d04a501665410975742"
          ]
        },
        "id": "0v5ZMbqvzJ98",
        "outputId": "768385c0-b81d-4cf1-e4e4-66932c86a194",
        "collapsed": true
      },
      "execution_count": null,
      "outputs": [
        {
          "output_type": "display_data",
          "data": {
            "text/plain": [
              "Map:   0%|          | 0/4000 [00:00<?, ? examples/s]"
            ],
            "application/vnd.jupyter.widget-view+json": {
              "version_major": 2,
              "version_minor": 0,
              "model_id": "8dba0a95ef3e45129dfebd1e181f88d7"
            }
          },
          "metadata": {}
        },
        {
          "output_type": "display_data",
          "data": {
            "text/plain": [
              "Map:   0%|          | 0/1000 [00:00<?, ? examples/s]"
            ],
            "application/vnd.jupyter.widget-view+json": {
              "version_major": 2,
              "version_minor": 0,
              "model_id": "758790112a8947dda6d9efcfd17d38b4"
            }
          },
          "metadata": {}
        },
        {
          "output_type": "stream",
          "name": "stdout",
          "text": [
            "{'Crop': 'Alfalfa', 'Location': 'Western', 'Pest/Disease/etc': 'alfalfa weevil', 'Solution': 'Post-harvest cultivation', 'Rating': 'Good, 80-90%', 'text': 'Crop: Alfalfa\\nLocation: Western\\nPest/Disease/etc: alfalfa weevil\\nSolution: Post-harvest cultivation\\nRating: Good, 80-90%', 'label': 420, '__index_level_0__': 45637, 'input_ids': [101, 10416, 1024, 22989, 10270, 2050, 3295, 1024, 2530, 20739, 1013, 4295, 1013, 4385, 1024, 22989, 10270, 2050, 16776, 14762, 5576, 1024, 2695, 1011, 11203, 13142, 5790, 1024, 2204, 1010, 3770, 1011, 3938, 1003, 102, 0, 0, 0, 0, 0, 0, 0, 0, 0, 0, 0, 0, 0, 0, 0, 0, 0, 0, 0, 0, 0, 0, 0, 0, 0, 0, 0, 0, 0, 0, 0, 0, 0, 0, 0, 0, 0, 0, 0, 0, 0, 0, 0, 0, 0, 0, 0, 0, 0, 0, 0, 0, 0, 0, 0, 0, 0, 0, 0, 0, 0, 0, 0, 0, 0, 0, 0, 0, 0, 0, 0, 0, 0, 0, 0, 0, 0, 0, 0, 0, 0, 0, 0, 0, 0], 'token_type_ids': [0, 0, 0, 0, 0, 0, 0, 0, 0, 0, 0, 0, 0, 0, 0, 0, 0, 0, 0, 0, 0, 0, 0, 0, 0, 0, 0, 0, 0, 0, 0, 0, 0, 0, 0, 0, 0, 0, 0, 0, 0, 0, 0, 0, 0, 0, 0, 0, 0, 0, 0, 0, 0, 0, 0, 0, 0, 0, 0, 0, 0, 0, 0, 0, 0, 0, 0, 0, 0, 0, 0, 0, 0, 0, 0, 0, 0, 0, 0, 0, 0, 0, 0, 0, 0, 0, 0, 0, 0, 0, 0, 0, 0, 0, 0, 0, 0, 0, 0, 0, 0, 0, 0, 0, 0, 0, 0, 0, 0, 0, 0, 0, 0, 0, 0, 0, 0, 0, 0, 0], 'attention_mask': [1, 1, 1, 1, 1, 1, 1, 1, 1, 1, 1, 1, 1, 1, 1, 1, 1, 1, 1, 1, 1, 1, 1, 1, 1, 1, 1, 1, 1, 1, 1, 1, 1, 1, 1, 0, 0, 0, 0, 0, 0, 0, 0, 0, 0, 0, 0, 0, 0, 0, 0, 0, 0, 0, 0, 0, 0, 0, 0, 0, 0, 0, 0, 0, 0, 0, 0, 0, 0, 0, 0, 0, 0, 0, 0, 0, 0, 0, 0, 0, 0, 0, 0, 0, 0, 0, 0, 0, 0, 0, 0, 0, 0, 0, 0, 0, 0, 0, 0, 0, 0, 0, 0, 0, 0, 0, 0, 0, 0, 0, 0, 0, 0, 0, 0, 0, 0, 0, 0, 0], 'labels': 420}\n",
            "['Crop', 'Location', 'Pest/Disease/etc', 'Solution', 'Rating', 'text', 'label', '__index_level_0__', 'input_ids', 'token_type_ids', 'attention_mask', 'labels']\n"
          ]
        }
      ]
    },
    {
      "cell_type": "markdown",
      "source": [
        "# **Training tinyBERT**"
      ],
      "metadata": {
        "id": "5QUThm7H2o2b"
      }
    },
    {
      "cell_type": "code",
      "source": [
        "num_labels = len(label_encoder)  # Number of unique pests/diseases\n",
        "model = AutoModelForSequenceClassification.from_pretrained(\"Intel/dynamic_tinybert\", num_labels=num_labels)"
      ],
      "metadata": {
        "colab": {
          "base_uri": "https://localhost:8080/"
        },
        "id": "qvaTL4pn4Fgh",
        "outputId": "232e3627-7fe5-4c5f-bed7-7ed82f246dde"
      },
      "execution_count": null,
      "outputs": [
        {
          "output_type": "stream",
          "name": "stderr",
          "text": [
            "Some weights of BertForSequenceClassification were not initialized from the model checkpoint at Intel/dynamic_tinybert and are newly initialized: ['bert.pooler.dense.bias', 'bert.pooler.dense.weight', 'classifier.bias', 'classifier.weight']\n",
            "You should probably TRAIN this model on a down-stream task to be able to use it for predictions and inference.\n"
          ]
        }
      ]
    },
    {
      "cell_type": "code",
      "source": [
        "from transformers import Trainer\n",
        "import torch\n",
        "\n",
        "class CustomTrainer(Trainer):\n",
        "    def __init__(self, *args, **kwargs):\n",
        "        super().__init__(*args, **kwargs)\n",
        "        self.optimizer = torch.optim.AdamW(self.model.parameters(), lr=2e-5)\n",
        "        self.scheduler = torch.optim.lr_scheduler.ReduceLROnPlateau(self.optimizer, mode='min', patience=2, factor=0.1)\n",
        "\n",
        "    def compute_loss(self, model, inputs, return_outputs=False):\n",
        "        # Forward pass\n",
        "        outputs = model(**inputs)\n",
        "\n",
        "        # Extract logits and labels\n",
        "        logits = outputs.get(\"logits\")\n",
        "        labels = inputs.get(\"labels\")\n",
        "\n",
        "        if logits is None:\n",
        "            raise ValueError(\"Logits are missing in the output of the model. Check the model configuration.\")\n",
        "\n",
        "        if labels is None:\n",
        "            raise ValueError(\"Labels are missing in the input. Ensure your dataset is correctly processed.\")\n",
        "\n",
        "        # Convert labels to the correct device\n",
        "        if isinstance(labels, torch.Tensor):\n",
        "            labels = labels.to(self.model.device)\n",
        "\n",
        "        # Calculate loss\n",
        "        loss_fct = torch.nn.CrossEntropyLoss()\n",
        "        loss = loss_fct(logits.view(-1, self.model.config.num_labels), labels.view(-1))\n",
        "\n",
        "        return (loss, outputs) if return_outputs else loss\n",
        "\n",
        "    def training_step(self, model, inputs):\n",
        "        loss = super().training_step(model, inputs)\n",
        "        self.optimizer.step()  # Perform the optimization step\n",
        "        self.scheduler.step(loss)  # Update scheduler based on loss\n",
        "        return loss\n"
      ],
      "metadata": {
        "id": "kaiWaF9u37qN"
      },
      "execution_count": null,
      "outputs": []
    },
    {
      "cell_type": "code",
      "source": [
        "def compute_metrics(eval_pred):\n",
        "    logits, labels = eval_pred\n",
        "    predictions = logits.argmax(axis=-1)\n",
        "    accuracy = accuracy_score(labels, predictions)\n",
        "    return {\"accuracy\": accuracy}"
      ],
      "metadata": {
        "id": "PsYNCBbk4ufp"
      },
      "execution_count": null,
      "outputs": []
    },
    {
      "cell_type": "code",
      "source": [
        "#Training arguments\n",
        "\n",
        "training_args = TrainingArguments(\n",
        "    output_dir='./results',\n",
        "    num_train_epochs=20,\n",
        "    per_device_train_batch_size=8,\n",
        "    per_device_eval_batch_size=8,\n",
        "    warmup_steps=500,\n",
        "    weight_decay=0.01,  # Regularization\n",
        "    logging_dir='./logs',\n",
        "    logging_steps=500,\n",
        "    eval_strategy=\"epoch\",\n",
        "    save_strategy=\"epoch\",\n",
        "    learning_rate=2e-5,\n",
        "    fp16=True, # Mixed Precision Training\n",
        "    load_best_model_at_end=True,\n",
        "    metric_for_best_model=\"accuracy\",\n",
        "    greater_is_better=True,\n",
        "    save_total_limit=2,\n",
        "    save_steps=1000,\n",
        "    seed=42,\n",
        ")\n",
        "\n",
        "# Initialize the trainer with the custom training arguments and model\n",
        "trainer = CustomTrainer(\n",
        "    model=model,\n",
        "    args=training_args,\n",
        "    train_dataset=tokenized_train_dataset,\n",
        "    eval_dataset=tokenized_test_dataset,\n",
        "    compute_metrics=compute_metrics,\n",
        ")\n",
        "\n",
        "# Train the model\n",
        "trainer.train()\n",
        "\n",
        "eval_results = trainer.evaluate()\n",
        "print(eval_results)"
      ],
      "metadata": {
        "colab": {
          "base_uri": "https://localhost:8080/",
          "height": 740
        },
        "id": "2wEq5ami2sto",
        "outputId": "a74a1d1f-7ce3-4f68-d5d5-f9fd6ad566bd"
      },
      "execution_count": null,
      "outputs": [
        {
          "output_type": "display_data",
          "data": {
            "text/plain": [
              "<IPython.core.display.HTML object>"
            ],
            "text/html": [
              "\n",
              "    <div>\n",
              "      \n",
              "      <progress value='10000' max='10000' style='width:300px; height:20px; vertical-align: middle;'></progress>\n",
              "      [10000/10000 16:21, Epoch 20/20]\n",
              "    </div>\n",
              "    <table border=\"1\" class=\"dataframe\">\n",
              "  <thead>\n",
              " <tr style=\"text-align: left;\">\n",
              "      <th>Epoch</th>\n",
              "      <th>Training Loss</th>\n",
              "      <th>Validation Loss</th>\n",
              "      <th>Accuracy</th>\n",
              "    </tr>\n",
              "  </thead>\n",
              "  <tbody>\n",
              "    <tr>\n",
              "      <td>1</td>\n",
              "      <td>6.301500</td>\n",
              "      <td>5.789791</td>\n",
              "      <td>0.020000</td>\n",
              "    </tr>\n",
              "    <tr>\n",
              "      <td>2</td>\n",
              "      <td>5.076500</td>\n",
              "      <td>4.164052</td>\n",
              "      <td>0.350000</td>\n",
              "    </tr>\n",
              "    <tr>\n",
              "      <td>3</td>\n",
              "      <td>3.677200</td>\n",
              "      <td>3.062038</td>\n",
              "      <td>0.564000</td>\n",
              "    </tr>\n",
              "    <tr>\n",
              "      <td>4</td>\n",
              "      <td>2.807000</td>\n",
              "      <td>2.396458</td>\n",
              "      <td>0.702000</td>\n",
              "    </tr>\n",
              "    <tr>\n",
              "      <td>5</td>\n",
              "      <td>2.247100</td>\n",
              "      <td>1.952876</td>\n",
              "      <td>0.752000</td>\n",
              "    </tr>\n",
              "    <tr>\n",
              "      <td>6</td>\n",
              "      <td>1.845800</td>\n",
              "      <td>1.646386</td>\n",
              "      <td>0.778000</td>\n",
              "    </tr>\n",
              "    <tr>\n",
              "      <td>7</td>\n",
              "      <td>1.549100</td>\n",
              "      <td>1.417754</td>\n",
              "      <td>0.814000</td>\n",
              "    </tr>\n",
              "    <tr>\n",
              "      <td>8</td>\n",
              "      <td>1.318900</td>\n",
              "      <td>1.229525</td>\n",
              "      <td>0.852000</td>\n",
              "    </tr>\n",
              "    <tr>\n",
              "      <td>9</td>\n",
              "      <td>1.136400</td>\n",
              "      <td>1.100590</td>\n",
              "      <td>0.869000</td>\n",
              "    </tr>\n",
              "    <tr>\n",
              "      <td>10</td>\n",
              "      <td>0.991600</td>\n",
              "      <td>0.999107</td>\n",
              "      <td>0.887000</td>\n",
              "    </tr>\n",
              "    <tr>\n",
              "      <td>11</td>\n",
              "      <td>0.881800</td>\n",
              "      <td>0.940262</td>\n",
              "      <td>0.888000</td>\n",
              "    </tr>\n",
              "    <tr>\n",
              "      <td>12</td>\n",
              "      <td>0.798100</td>\n",
              "      <td>0.849033</td>\n",
              "      <td>0.902000</td>\n",
              "    </tr>\n",
              "    <tr>\n",
              "      <td>13</td>\n",
              "      <td>0.720700</td>\n",
              "      <td>0.784902</td>\n",
              "      <td>0.910000</td>\n",
              "    </tr>\n",
              "    <tr>\n",
              "      <td>14</td>\n",
              "      <td>0.661800</td>\n",
              "      <td>0.749023</td>\n",
              "      <td>0.918000</td>\n",
              "    </tr>\n",
              "    <tr>\n",
              "      <td>15</td>\n",
              "      <td>0.614700</td>\n",
              "      <td>0.712961</td>\n",
              "      <td>0.923000</td>\n",
              "    </tr>\n",
              "    <tr>\n",
              "      <td>16</td>\n",
              "      <td>0.573700</td>\n",
              "      <td>0.686820</td>\n",
              "      <td>0.925000</td>\n",
              "    </tr>\n",
              "    <tr>\n",
              "      <td>17</td>\n",
              "      <td>0.543000</td>\n",
              "      <td>0.662495</td>\n",
              "      <td>0.927000</td>\n",
              "    </tr>\n",
              "    <tr>\n",
              "      <td>18</td>\n",
              "      <td>0.519100</td>\n",
              "      <td>0.649421</td>\n",
              "      <td>0.931000</td>\n",
              "    </tr>\n",
              "    <tr>\n",
              "      <td>19</td>\n",
              "      <td>0.507100</td>\n",
              "      <td>0.643529</td>\n",
              "      <td>0.929000</td>\n",
              "    </tr>\n",
              "    <tr>\n",
              "      <td>20</td>\n",
              "      <td>0.493000</td>\n",
              "      <td>0.638444</td>\n",
              "      <td>0.930000</td>\n",
              "    </tr>\n",
              "  </tbody>\n",
              "</table><p>"
            ]
          },
          "metadata": {}
        },
        {
          "output_type": "display_data",
          "data": {
            "text/plain": [
              "<IPython.core.display.HTML object>"
            ],
            "text/html": [
              "\n",
              "    <div>\n",
              "      \n",
              "      <progress value='125' max='125' style='width:300px; height:20px; vertical-align: middle;'></progress>\n",
              "      [125/125 00:01]\n",
              "    </div>\n",
              "    "
            ]
          },
          "metadata": {}
        },
        {
          "output_type": "stream",
          "name": "stdout",
          "text": [
            "{'eval_loss': 0.6494210362434387, 'eval_accuracy': 0.931, 'eval_runtime': 1.4226, 'eval_samples_per_second': 702.947, 'eval_steps_per_second': 87.868, 'epoch': 20.0}\n"
          ]
        }
      ]
    },
    {
      "cell_type": "code",
      "source": [
        "# Save the model and tokenizer\n",
        "trainer.save_model(\"./IPM_model\")\n",
        "tokenizer.save_pretrained(\"./IPM_model\")"
      ],
      "metadata": {
        "id": "tQzPKraE4gp2",
        "colab": {
          "base_uri": "https://localhost:8080/"
        },
        "outputId": "245fa53c-ffbd-43ca-beba-4e7e8dbfc942"
      },
      "execution_count": null,
      "outputs": [
        {
          "output_type": "execute_result",
          "data": {
            "text/plain": [
              "('./IPM_model/tokenizer_config.json',\n",
              " './IPM_model/special_tokens_map.json',\n",
              " './IPM_model/vocab.txt',\n",
              " './IPM_model/added_tokens.json',\n",
              " './IPM_model/tokenizer.json')"
            ]
          },
          "metadata": {},
          "execution_count": 32
        }
      ]
    },
    {
      "cell_type": "code",
      "source": [
        "model = AutoModelForSequenceClassification.from_pretrained(\"./IPM_model\")\n",
        "tokenizer = AutoTokenizer.from_pretrained(\"./IPM_model\")\n",
        "\n",
        "device = torch.device(\"cuda\" if torch.cuda.is_available() else \"cpu\")\n",
        "model.to(device)"
      ],
      "metadata": {
        "colab": {
          "base_uri": "https://localhost:8080/"
        },
        "collapsed": true,
        "id": "UrITv98ikGjy",
        "outputId": "525c8687-2736-4e9e-fcae-ff9b0c746ebd"
      },
      "execution_count": null,
      "outputs": [
        {
          "output_type": "execute_result",
          "data": {
            "text/plain": [
              "BertForSequenceClassification(\n",
              "  (bert): BertModel(\n",
              "    (embeddings): BertEmbeddings(\n",
              "      (word_embeddings): Embedding(30522, 768, padding_idx=0)\n",
              "      (position_embeddings): Embedding(512, 768)\n",
              "      (token_type_embeddings): Embedding(2, 768)\n",
              "      (LayerNorm): LayerNorm((768,), eps=1e-12, elementwise_affine=True)\n",
              "      (dropout): Dropout(p=0.1, inplace=False)\n",
              "    )\n",
              "    (encoder): BertEncoder(\n",
              "      (layer): ModuleList(\n",
              "        (0-5): 6 x BertLayer(\n",
              "          (attention): BertAttention(\n",
              "            (self): BertSdpaSelfAttention(\n",
              "              (query): Linear(in_features=768, out_features=768, bias=True)\n",
              "              (key): Linear(in_features=768, out_features=768, bias=True)\n",
              "              (value): Linear(in_features=768, out_features=768, bias=True)\n",
              "              (dropout): Dropout(p=0.1, inplace=False)\n",
              "            )\n",
              "            (output): BertSelfOutput(\n",
              "              (dense): Linear(in_features=768, out_features=768, bias=True)\n",
              "              (LayerNorm): LayerNorm((768,), eps=1e-12, elementwise_affine=True)\n",
              "              (dropout): Dropout(p=0.1, inplace=False)\n",
              "            )\n",
              "          )\n",
              "          (intermediate): BertIntermediate(\n",
              "            (dense): Linear(in_features=768, out_features=3072, bias=True)\n",
              "            (intermediate_act_fn): ReLU()\n",
              "          )\n",
              "          (output): BertOutput(\n",
              "            (dense): Linear(in_features=3072, out_features=768, bias=True)\n",
              "            (LayerNorm): LayerNorm((768,), eps=1e-12, elementwise_affine=True)\n",
              "            (dropout): Dropout(p=0.1, inplace=False)\n",
              "          )\n",
              "        )\n",
              "      )\n",
              "    )\n",
              "    (pooler): BertPooler(\n",
              "      (dense): Linear(in_features=768, out_features=768, bias=True)\n",
              "      (activation): Tanh()\n",
              "    )\n",
              "  )\n",
              "  (dropout): Dropout(p=0.1, inplace=False)\n",
              "  (classifier): Linear(in_features=768, out_features=758, bias=True)\n",
              ")"
            ]
          },
          "metadata": {},
          "execution_count": 33
        }
      ]
    },
    {
      "cell_type": "markdown",
      "source": [
        "# **Test Model with Custom Input**"
      ],
      "metadata": {
        "id": "e5hqu4Z4mW8W"
      }
    },
    {
      "cell_type": "code",
      "source": [
        "def get_solution_and_rating_from_index(index, train_df):\n",
        "    # Ensure the index is within the DataFrame bounds\n",
        "    if index < 0 or index >= len(train_df):\n",
        "        raise IndexError(\"Index is out of bounds\")\n",
        "\n",
        "    # Get the row at the given index\n",
        "    row = df.iloc[index]\n",
        "\n",
        "    # Return the solution and rating from that row\n",
        "    return row['Solution'], row['Rating']"
      ],
      "metadata": {
        "id": "GHtx2QhjjAYv"
      },
      "execution_count": null,
      "outputs": []
    },
    {
      "cell_type": "code",
      "source": [
        "def predict_from_model(crop, location, pest, train_df):\n",
        "    text_entry = f\"Crop: {crop}\\nLocation: {location}\\nPest/Disease/etc: {pest}\"\n",
        "    tokens = tokenizer(text_entry, padding='max_length', truncation=True, max_length=120, return_tensors='pt')\n",
        "\n",
        "    # Move tensors to the same device as the model\n",
        "    tokens = {key: val.to(device) for key, val in tokens.items()}\n",
        "\n",
        "    with torch.no_grad():\n",
        "        outputs = model(**tokens)\n",
        "\n",
        "    logits = outputs.logits\n",
        "    predicted_index = logits.argmax(dim=-1).item()\n",
        "\n",
        "    solution, rating = get_solution_and_rating_from_index(predicted_index, df)\n",
        "\n",
        "    return solution, rating\n"
      ],
      "metadata": {
        "id": "hVIFDzDtEUWq"
      },
      "execution_count": null,
      "outputs": []
    },
    {
      "cell_type": "code",
      "source": [
        "# Example function to handle user input and display results\n",
        "def main():\n",
        "    crop = input(\"Enter crop name: \")\n",
        "    location = input(\"Enter location: \")\n",
        "    pest = input(\"Enter pest/disease name: \")\n",
        "\n",
        "    # Predict solution and rating\n",
        "    solution, rating = predict_from_model(crop, location, pest, train_df)\n",
        "\n",
        "    print(f\"Recommended Solution: {solution}\")\n",
        "    print(f\"Rating: {rating}\")\n",
        "\n",
        "# Run the main function\n",
        "main()\n"
      ],
      "metadata": {
        "colab": {
          "base_uri": "https://localhost:8080/"
        },
        "id": "L_WL-NYtEW0k",
        "outputId": "87a26189-6544-44c2-dfef-13875356b223"
      },
      "execution_count": null,
      "outputs": [
        {
          "output_type": "stream",
          "name": "stdout",
          "text": [
            "Enter crop name: Spinach\n",
            "Enter location: Northeastern\n",
            "Enter pest/disease name: green peach aphid\n",
            "Recommended Solution: Imidacloprid\n",
            "Rating: Good, 80-90%\n"
          ]
        }
      ]
    }
  ]
}