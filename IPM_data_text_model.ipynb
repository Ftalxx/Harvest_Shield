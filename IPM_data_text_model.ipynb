{
  "nbformat": 4,
  "nbformat_minor": 0,
  "metadata": {
    "colab": {
      "provenance": [],
      "gpuType": "T4",
      "include_colab_link": true
    },
    "kernelspec": {
      "name": "python3",
      "display_name": "Python 3"
    },
    "language_info": {
      "name": "python"
    },
    "widgets": {
      "application/vnd.jupyter.widget-state+json": {
        "492e563a422d495eb655ae2fd208ed24": {
          "model_module": "@jupyter-widgets/controls",
          "model_name": "HBoxModel",
          "model_module_version": "1.5.0",
          "state": {
            "_dom_classes": [],
            "_model_module": "@jupyter-widgets/controls",
            "_model_module_version": "1.5.0",
            "_model_name": "HBoxModel",
            "_view_count": null,
            "_view_module": "@jupyter-widgets/controls",
            "_view_module_version": "1.5.0",
            "_view_name": "HBoxView",
            "box_style": "",
            "children": [
              "IPY_MODEL_894dc84c803f4963a3c1cbebf15e3c87",
              "IPY_MODEL_8b371bef332b419c94d0b65511145cf7",
              "IPY_MODEL_caacdec679a449a9b62b0ddc754fcc01"
            ],
            "layout": "IPY_MODEL_237db46a2d1d4693bdbdd5b047a38ec9"
          }
        },
        "894dc84c803f4963a3c1cbebf15e3c87": {
          "model_module": "@jupyter-widgets/controls",
          "model_name": "HTMLModel",
          "model_module_version": "1.5.0",
          "state": {
            "_dom_classes": [],
            "_model_module": "@jupyter-widgets/controls",
            "_model_module_version": "1.5.0",
            "_model_name": "HTMLModel",
            "_view_count": null,
            "_view_module": "@jupyter-widgets/controls",
            "_view_module_version": "1.5.0",
            "_view_name": "HTMLView",
            "description": "",
            "description_tooltip": null,
            "layout": "IPY_MODEL_944c5c68c0bf4bb9a9a7b28734954701",
            "placeholder": "​",
            "style": "IPY_MODEL_8379caa01294439298f1704d31a3c0db",
            "value": "Map: 100%"
          }
        },
        "8b371bef332b419c94d0b65511145cf7": {
          "model_module": "@jupyter-widgets/controls",
          "model_name": "FloatProgressModel",
          "model_module_version": "1.5.0",
          "state": {
            "_dom_classes": [],
            "_model_module": "@jupyter-widgets/controls",
            "_model_module_version": "1.5.0",
            "_model_name": "FloatProgressModel",
            "_view_count": null,
            "_view_module": "@jupyter-widgets/controls",
            "_view_module_version": "1.5.0",
            "_view_name": "ProgressView",
            "bar_style": "success",
            "description": "",
            "description_tooltip": null,
            "layout": "IPY_MODEL_2e8faef006714aceb868f2c13268c6e5",
            "max": 4000,
            "min": 0,
            "orientation": "horizontal",
            "style": "IPY_MODEL_5fecd3e50509430d9ee394a4a62ac758",
            "value": 4000
          }
        },
        "caacdec679a449a9b62b0ddc754fcc01": {
          "model_module": "@jupyter-widgets/controls",
          "model_name": "HTMLModel",
          "model_module_version": "1.5.0",
          "state": {
            "_dom_classes": [],
            "_model_module": "@jupyter-widgets/controls",
            "_model_module_version": "1.5.0",
            "_model_name": "HTMLModel",
            "_view_count": null,
            "_view_module": "@jupyter-widgets/controls",
            "_view_module_version": "1.5.0",
            "_view_name": "HTMLView",
            "description": "",
            "description_tooltip": null,
            "layout": "IPY_MODEL_9ab2139869b34f128cf53c8f1fa0db78",
            "placeholder": "​",
            "style": "IPY_MODEL_2694b2e7e7894006863b3dc11634355b",
            "value": " 4000/4000 [00:01&lt;00:00, 3840.93 examples/s]"
          }
        },
        "237db46a2d1d4693bdbdd5b047a38ec9": {
          "model_module": "@jupyter-widgets/base",
          "model_name": "LayoutModel",
          "model_module_version": "1.2.0",
          "state": {
            "_model_module": "@jupyter-widgets/base",
            "_model_module_version": "1.2.0",
            "_model_name": "LayoutModel",
            "_view_count": null,
            "_view_module": "@jupyter-widgets/base",
            "_view_module_version": "1.2.0",
            "_view_name": "LayoutView",
            "align_content": null,
            "align_items": null,
            "align_self": null,
            "border": null,
            "bottom": null,
            "display": null,
            "flex": null,
            "flex_flow": null,
            "grid_area": null,
            "grid_auto_columns": null,
            "grid_auto_flow": null,
            "grid_auto_rows": null,
            "grid_column": null,
            "grid_gap": null,
            "grid_row": null,
            "grid_template_areas": null,
            "grid_template_columns": null,
            "grid_template_rows": null,
            "height": null,
            "justify_content": null,
            "justify_items": null,
            "left": null,
            "margin": null,
            "max_height": null,
            "max_width": null,
            "min_height": null,
            "min_width": null,
            "object_fit": null,
            "object_position": null,
            "order": null,
            "overflow": null,
            "overflow_x": null,
            "overflow_y": null,
            "padding": null,
            "right": null,
            "top": null,
            "visibility": null,
            "width": null
          }
        },
        "944c5c68c0bf4bb9a9a7b28734954701": {
          "model_module": "@jupyter-widgets/base",
          "model_name": "LayoutModel",
          "model_module_version": "1.2.0",
          "state": {
            "_model_module": "@jupyter-widgets/base",
            "_model_module_version": "1.2.0",
            "_model_name": "LayoutModel",
            "_view_count": null,
            "_view_module": "@jupyter-widgets/base",
            "_view_module_version": "1.2.0",
            "_view_name": "LayoutView",
            "align_content": null,
            "align_items": null,
            "align_self": null,
            "border": null,
            "bottom": null,
            "display": null,
            "flex": null,
            "flex_flow": null,
            "grid_area": null,
            "grid_auto_columns": null,
            "grid_auto_flow": null,
            "grid_auto_rows": null,
            "grid_column": null,
            "grid_gap": null,
            "grid_row": null,
            "grid_template_areas": null,
            "grid_template_columns": null,
            "grid_template_rows": null,
            "height": null,
            "justify_content": null,
            "justify_items": null,
            "left": null,
            "margin": null,
            "max_height": null,
            "max_width": null,
            "min_height": null,
            "min_width": null,
            "object_fit": null,
            "object_position": null,
            "order": null,
            "overflow": null,
            "overflow_x": null,
            "overflow_y": null,
            "padding": null,
            "right": null,
            "top": null,
            "visibility": null,
            "width": null
          }
        },
        "8379caa01294439298f1704d31a3c0db": {
          "model_module": "@jupyter-widgets/controls",
          "model_name": "DescriptionStyleModel",
          "model_module_version": "1.5.0",
          "state": {
            "_model_module": "@jupyter-widgets/controls",
            "_model_module_version": "1.5.0",
            "_model_name": "DescriptionStyleModel",
            "_view_count": null,
            "_view_module": "@jupyter-widgets/base",
            "_view_module_version": "1.2.0",
            "_view_name": "StyleView",
            "description_width": ""
          }
        },
        "2e8faef006714aceb868f2c13268c6e5": {
          "model_module": "@jupyter-widgets/base",
          "model_name": "LayoutModel",
          "model_module_version": "1.2.0",
          "state": {
            "_model_module": "@jupyter-widgets/base",
            "_model_module_version": "1.2.0",
            "_model_name": "LayoutModel",
            "_view_count": null,
            "_view_module": "@jupyter-widgets/base",
            "_view_module_version": "1.2.0",
            "_view_name": "LayoutView",
            "align_content": null,
            "align_items": null,
            "align_self": null,
            "border": null,
            "bottom": null,
            "display": null,
            "flex": null,
            "flex_flow": null,
            "grid_area": null,
            "grid_auto_columns": null,
            "grid_auto_flow": null,
            "grid_auto_rows": null,
            "grid_column": null,
            "grid_gap": null,
            "grid_row": null,
            "grid_template_areas": null,
            "grid_template_columns": null,
            "grid_template_rows": null,
            "height": null,
            "justify_content": null,
            "justify_items": null,
            "left": null,
            "margin": null,
            "max_height": null,
            "max_width": null,
            "min_height": null,
            "min_width": null,
            "object_fit": null,
            "object_position": null,
            "order": null,
            "overflow": null,
            "overflow_x": null,
            "overflow_y": null,
            "padding": null,
            "right": null,
            "top": null,
            "visibility": null,
            "width": null
          }
        },
        "5fecd3e50509430d9ee394a4a62ac758": {
          "model_module": "@jupyter-widgets/controls",
          "model_name": "ProgressStyleModel",
          "model_module_version": "1.5.0",
          "state": {
            "_model_module": "@jupyter-widgets/controls",
            "_model_module_version": "1.5.0",
            "_model_name": "ProgressStyleModel",
            "_view_count": null,
            "_view_module": "@jupyter-widgets/base",
            "_view_module_version": "1.2.0",
            "_view_name": "StyleView",
            "bar_color": null,
            "description_width": ""
          }
        },
        "9ab2139869b34f128cf53c8f1fa0db78": {
          "model_module": "@jupyter-widgets/base",
          "model_name": "LayoutModel",
          "model_module_version": "1.2.0",
          "state": {
            "_model_module": "@jupyter-widgets/base",
            "_model_module_version": "1.2.0",
            "_model_name": "LayoutModel",
            "_view_count": null,
            "_view_module": "@jupyter-widgets/base",
            "_view_module_version": "1.2.0",
            "_view_name": "LayoutView",
            "align_content": null,
            "align_items": null,
            "align_self": null,
            "border": null,
            "bottom": null,
            "display": null,
            "flex": null,
            "flex_flow": null,
            "grid_area": null,
            "grid_auto_columns": null,
            "grid_auto_flow": null,
            "grid_auto_rows": null,
            "grid_column": null,
            "grid_gap": null,
            "grid_row": null,
            "grid_template_areas": null,
            "grid_template_columns": null,
            "grid_template_rows": null,
            "height": null,
            "justify_content": null,
            "justify_items": null,
            "left": null,
            "margin": null,
            "max_height": null,
            "max_width": null,
            "min_height": null,
            "min_width": null,
            "object_fit": null,
            "object_position": null,
            "order": null,
            "overflow": null,
            "overflow_x": null,
            "overflow_y": null,
            "padding": null,
            "right": null,
            "top": null,
            "visibility": null,
            "width": null
          }
        },
        "2694b2e7e7894006863b3dc11634355b": {
          "model_module": "@jupyter-widgets/controls",
          "model_name": "DescriptionStyleModel",
          "model_module_version": "1.5.0",
          "state": {
            "_model_module": "@jupyter-widgets/controls",
            "_model_module_version": "1.5.0",
            "_model_name": "DescriptionStyleModel",
            "_view_count": null,
            "_view_module": "@jupyter-widgets/base",
            "_view_module_version": "1.2.0",
            "_view_name": "StyleView",
            "description_width": ""
          }
        },
        "4c4c713171ac4702aecc6ff1a6b6510f": {
          "model_module": "@jupyter-widgets/controls",
          "model_name": "HBoxModel",
          "model_module_version": "1.5.0",
          "state": {
            "_dom_classes": [],
            "_model_module": "@jupyter-widgets/controls",
            "_model_module_version": "1.5.0",
            "_model_name": "HBoxModel",
            "_view_count": null,
            "_view_module": "@jupyter-widgets/controls",
            "_view_module_version": "1.5.0",
            "_view_name": "HBoxView",
            "box_style": "",
            "children": [
              "IPY_MODEL_fe08abd3a14e4138a7c47c036b9d85a6",
              "IPY_MODEL_a7b318919fa14b41949774314f81cd47",
              "IPY_MODEL_fa266ff9b1a9449a8745d2d51b2f02c7"
            ],
            "layout": "IPY_MODEL_4970da0d17f7481a8cd031d0605e1106"
          }
        },
        "fe08abd3a14e4138a7c47c036b9d85a6": {
          "model_module": "@jupyter-widgets/controls",
          "model_name": "HTMLModel",
          "model_module_version": "1.5.0",
          "state": {
            "_dom_classes": [],
            "_model_module": "@jupyter-widgets/controls",
            "_model_module_version": "1.5.0",
            "_model_name": "HTMLModel",
            "_view_count": null,
            "_view_module": "@jupyter-widgets/controls",
            "_view_module_version": "1.5.0",
            "_view_name": "HTMLView",
            "description": "",
            "description_tooltip": null,
            "layout": "IPY_MODEL_a08e061aa9474ba2be68935b9f25478f",
            "placeholder": "​",
            "style": "IPY_MODEL_7efec7e25ac6433a92184a49d37e82da",
            "value": "Map: 100%"
          }
        },
        "a7b318919fa14b41949774314f81cd47": {
          "model_module": "@jupyter-widgets/controls",
          "model_name": "FloatProgressModel",
          "model_module_version": "1.5.0",
          "state": {
            "_dom_classes": [],
            "_model_module": "@jupyter-widgets/controls",
            "_model_module_version": "1.5.0",
            "_model_name": "FloatProgressModel",
            "_view_count": null,
            "_view_module": "@jupyter-widgets/controls",
            "_view_module_version": "1.5.0",
            "_view_name": "ProgressView",
            "bar_style": "success",
            "description": "",
            "description_tooltip": null,
            "layout": "IPY_MODEL_459c5e06a19d4229a7ac5fa450900eea",
            "max": 1000,
            "min": 0,
            "orientation": "horizontal",
            "style": "IPY_MODEL_e8a43531bf1849a48b35838c6d2cece0",
            "value": 1000
          }
        },
        "fa266ff9b1a9449a8745d2d51b2f02c7": {
          "model_module": "@jupyter-widgets/controls",
          "model_name": "HTMLModel",
          "model_module_version": "1.5.0",
          "state": {
            "_dom_classes": [],
            "_model_module": "@jupyter-widgets/controls",
            "_model_module_version": "1.5.0",
            "_model_name": "HTMLModel",
            "_view_count": null,
            "_view_module": "@jupyter-widgets/controls",
            "_view_module_version": "1.5.0",
            "_view_name": "HTMLView",
            "description": "",
            "description_tooltip": null,
            "layout": "IPY_MODEL_28cd813bc6e942ec9960253dc2fc3bb1",
            "placeholder": "​",
            "style": "IPY_MODEL_b40b89cbd58a46faa7090503b52911cc",
            "value": " 1000/1000 [00:00&lt;00:00, 2810.22 examples/s]"
          }
        },
        "4970da0d17f7481a8cd031d0605e1106": {
          "model_module": "@jupyter-widgets/base",
          "model_name": "LayoutModel",
          "model_module_version": "1.2.0",
          "state": {
            "_model_module": "@jupyter-widgets/base",
            "_model_module_version": "1.2.0",
            "_model_name": "LayoutModel",
            "_view_count": null,
            "_view_module": "@jupyter-widgets/base",
            "_view_module_version": "1.2.0",
            "_view_name": "LayoutView",
            "align_content": null,
            "align_items": null,
            "align_self": null,
            "border": null,
            "bottom": null,
            "display": null,
            "flex": null,
            "flex_flow": null,
            "grid_area": null,
            "grid_auto_columns": null,
            "grid_auto_flow": null,
            "grid_auto_rows": null,
            "grid_column": null,
            "grid_gap": null,
            "grid_row": null,
            "grid_template_areas": null,
            "grid_template_columns": null,
            "grid_template_rows": null,
            "height": null,
            "justify_content": null,
            "justify_items": null,
            "left": null,
            "margin": null,
            "max_height": null,
            "max_width": null,
            "min_height": null,
            "min_width": null,
            "object_fit": null,
            "object_position": null,
            "order": null,
            "overflow": null,
            "overflow_x": null,
            "overflow_y": null,
            "padding": null,
            "right": null,
            "top": null,
            "visibility": null,
            "width": null
          }
        },
        "a08e061aa9474ba2be68935b9f25478f": {
          "model_module": "@jupyter-widgets/base",
          "model_name": "LayoutModel",
          "model_module_version": "1.2.0",
          "state": {
            "_model_module": "@jupyter-widgets/base",
            "_model_module_version": "1.2.0",
            "_model_name": "LayoutModel",
            "_view_count": null,
            "_view_module": "@jupyter-widgets/base",
            "_view_module_version": "1.2.0",
            "_view_name": "LayoutView",
            "align_content": null,
            "align_items": null,
            "align_self": null,
            "border": null,
            "bottom": null,
            "display": null,
            "flex": null,
            "flex_flow": null,
            "grid_area": null,
            "grid_auto_columns": null,
            "grid_auto_flow": null,
            "grid_auto_rows": null,
            "grid_column": null,
            "grid_gap": null,
            "grid_row": null,
            "grid_template_areas": null,
            "grid_template_columns": null,
            "grid_template_rows": null,
            "height": null,
            "justify_content": null,
            "justify_items": null,
            "left": null,
            "margin": null,
            "max_height": null,
            "max_width": null,
            "min_height": null,
            "min_width": null,
            "object_fit": null,
            "object_position": null,
            "order": null,
            "overflow": null,
            "overflow_x": null,
            "overflow_y": null,
            "padding": null,
            "right": null,
            "top": null,
            "visibility": null,
            "width": null
          }
        },
        "7efec7e25ac6433a92184a49d37e82da": {
          "model_module": "@jupyter-widgets/controls",
          "model_name": "DescriptionStyleModel",
          "model_module_version": "1.5.0",
          "state": {
            "_model_module": "@jupyter-widgets/controls",
            "_model_module_version": "1.5.0",
            "_model_name": "DescriptionStyleModel",
            "_view_count": null,
            "_view_module": "@jupyter-widgets/base",
            "_view_module_version": "1.2.0",
            "_view_name": "StyleView",
            "description_width": ""
          }
        },
        "459c5e06a19d4229a7ac5fa450900eea": {
          "model_module": "@jupyter-widgets/base",
          "model_name": "LayoutModel",
          "model_module_version": "1.2.0",
          "state": {
            "_model_module": "@jupyter-widgets/base",
            "_model_module_version": "1.2.0",
            "_model_name": "LayoutModel",
            "_view_count": null,
            "_view_module": "@jupyter-widgets/base",
            "_view_module_version": "1.2.0",
            "_view_name": "LayoutView",
            "align_content": null,
            "align_items": null,
            "align_self": null,
            "border": null,
            "bottom": null,
            "display": null,
            "flex": null,
            "flex_flow": null,
            "grid_area": null,
            "grid_auto_columns": null,
            "grid_auto_flow": null,
            "grid_auto_rows": null,
            "grid_column": null,
            "grid_gap": null,
            "grid_row": null,
            "grid_template_areas": null,
            "grid_template_columns": null,
            "grid_template_rows": null,
            "height": null,
            "justify_content": null,
            "justify_items": null,
            "left": null,
            "margin": null,
            "max_height": null,
            "max_width": null,
            "min_height": null,
            "min_width": null,
            "object_fit": null,
            "object_position": null,
            "order": null,
            "overflow": null,
            "overflow_x": null,
            "overflow_y": null,
            "padding": null,
            "right": null,
            "top": null,
            "visibility": null,
            "width": null
          }
        },
        "e8a43531bf1849a48b35838c6d2cece0": {
          "model_module": "@jupyter-widgets/controls",
          "model_name": "ProgressStyleModel",
          "model_module_version": "1.5.0",
          "state": {
            "_model_module": "@jupyter-widgets/controls",
            "_model_module_version": "1.5.0",
            "_model_name": "ProgressStyleModel",
            "_view_count": null,
            "_view_module": "@jupyter-widgets/base",
            "_view_module_version": "1.2.0",
            "_view_name": "StyleView",
            "bar_color": null,
            "description_width": ""
          }
        },
        "28cd813bc6e942ec9960253dc2fc3bb1": {
          "model_module": "@jupyter-widgets/base",
          "model_name": "LayoutModel",
          "model_module_version": "1.2.0",
          "state": {
            "_model_module": "@jupyter-widgets/base",
            "_model_module_version": "1.2.0",
            "_model_name": "LayoutModel",
            "_view_count": null,
            "_view_module": "@jupyter-widgets/base",
            "_view_module_version": "1.2.0",
            "_view_name": "LayoutView",
            "align_content": null,
            "align_items": null,
            "align_self": null,
            "border": null,
            "bottom": null,
            "display": null,
            "flex": null,
            "flex_flow": null,
            "grid_area": null,
            "grid_auto_columns": null,
            "grid_auto_flow": null,
            "grid_auto_rows": null,
            "grid_column": null,
            "grid_gap": null,
            "grid_row": null,
            "grid_template_areas": null,
            "grid_template_columns": null,
            "grid_template_rows": null,
            "height": null,
            "justify_content": null,
            "justify_items": null,
            "left": null,
            "margin": null,
            "max_height": null,
            "max_width": null,
            "min_height": null,
            "min_width": null,
            "object_fit": null,
            "object_position": null,
            "order": null,
            "overflow": null,
            "overflow_x": null,
            "overflow_y": null,
            "padding": null,
            "right": null,
            "top": null,
            "visibility": null,
            "width": null
          }
        },
        "b40b89cbd58a46faa7090503b52911cc": {
          "model_module": "@jupyter-widgets/controls",
          "model_name": "DescriptionStyleModel",
          "model_module_version": "1.5.0",
          "state": {
            "_model_module": "@jupyter-widgets/controls",
            "_model_module_version": "1.5.0",
            "_model_name": "DescriptionStyleModel",
            "_view_count": null,
            "_view_module": "@jupyter-widgets/base",
            "_view_module_version": "1.2.0",
            "_view_name": "StyleView",
            "description_width": ""
          }
        }
      }
    },
    "accelerator": "GPU"
  },
  "cells": [
    {
      "cell_type": "markdown",
      "metadata": {
        "id": "view-in-github",
        "colab_type": "text"
      },
      "source": [
        "<a href=\"https://colab.research.google.com/github/Ftalxx/Harvest_Shield/blob/main/IPM_data_text_model.ipynb\" target=\"_parent\"><img src=\"https://colab.research.google.com/assets/colab-badge.svg\" alt=\"Open In Colab\"/></a>"
      ]
    },
    {
      "cell_type": "code",
      "execution_count": null,
      "metadata": {
        "id": "pZQZne2CkyZA"
      },
      "outputs": [],
      "source": [
        "import requests\n",
        "from bs4 import BeautifulSoup\n",
        "import csv\n",
        "import re\n",
        "from google.colab import files\n",
        "import pandas as pd"
      ]
    },
    {
      "cell_type": "markdown",
      "source": [
        "#**Function to get URLs from IPM and access to scrape all valid links with data**"
      ],
      "metadata": {
        "id": "YHOMepxTk7Ex"
      }
    },
    {
      "cell_type": "code",
      "source": [
        "def fetch_page(url):\n",
        "    response = requests.get(url)\n",
        "    response.raise_for_status()\n",
        "    return BeautifulSoup(response.text, 'html.parser')\n",
        "\n",
        "def scrape_main_page(main_page_url):\n",
        "  soup = fetch_page(main_page_url)\n",
        "  links = soup.find_all('a', href=True)\n",
        "  valid_links = [link['href'] for link in links if link['href'].startswith('https://ipmdata.ipmcenters.org/source_report.cfm?view=yes&sourceid=')]\n",
        "  return valid_links\n"
      ],
      "metadata": {
        "id": "Sw_tOxD8lbiV"
      },
      "execution_count": null,
      "outputs": []
    },
    {
      "cell_type": "markdown",
      "source": [
        "# **Extract location and crop from information table in URL**"
      ],
      "metadata": {
        "id": "YwZa0NoElgFE"
      }
    },
    {
      "cell_type": "code",
      "source": [
        "def extract_settings_and_region(soup):\n",
        "    settings = None\n",
        "    region = None\n",
        "    tables = soup.find_all('table')\n",
        "\n",
        "    for table in tables:\n",
        "        rows = table.find_all('tr')\n",
        "        for row in rows:\n",
        "            cells = row.find_all('td')\n",
        "            if len(cells) >= 2:\n",
        "                header = cells[0].get_text(strip=True)\n",
        "                value = cells[1].get_text(strip=True)\n",
        "                if header == 'Settings':\n",
        "                    settings = value\n",
        "                elif header == 'Region':\n",
        "                    region = value\n",
        "\n",
        "    return settings, region"
      ],
      "metadata": {
        "id": "3Mzj5qkrlfeL"
      },
      "execution_count": null,
      "outputs": []
    },
    {
      "cell_type": "markdown",
      "source": [
        "# **Clean pest name and lowercase to normalize**"
      ],
      "metadata": {
        "id": "2RKQsvpKlu7W"
      }
    },
    {
      "cell_type": "code",
      "source": [
        "def clean_pest_name(pest_name):\n",
        "    cleaned_name = re.sub(r'[^a-z0-9\\s]', '', pest_name.lower())\n",
        "    return cleaned_name.strip()"
      ],
      "metadata": {
        "id": "BbGS_YsrltZA"
      },
      "execution_count": null,
      "outputs": []
    },
    {
      "cell_type": "markdown",
      "source": [
        "# **Extract pest | active ingredient | rating data if available**"
      ],
      "metadata": {
        "id": "MnqIcHdGl4nt"
      }
    },
    {
      "cell_type": "code",
      "source": [
        "def extract_pests(soup):\n",
        "    pests_data = []\n",
        "    tables = soup.find_all('table', border='1', width='100%')\n",
        "    for table in tables:\n",
        "        thead = table.find('thead')\n",
        "        if thead:\n",
        "            headers = thead.find_all('th')\n",
        "            header_texts = [header.get_text(strip=True) for header in headers]\n",
        "            if 'Pest' in header_texts and 'Active Ingredient' in header_texts and 'Rating' in header_texts:\n",
        "                tbody = table.find('tbody')\n",
        "                if tbody:\n",
        "                    rows = tbody.find_all('tr')\n",
        "                    pest_index = header_texts.index('Pest')\n",
        "                    active_ingredient_index = header_texts.index('Active Ingredient')\n",
        "                    rating_index = header_texts.index('Rating')\n",
        "                    for row in rows:\n",
        "                        cells = row.find_all('td')\n",
        "                        if len(cells) > pest_index:\n",
        "                            pest_name = cells[pest_index].get_text(strip=True)\n",
        "                            active_ingredient = cells[active_ingredient_index].get_text(strip=True)\n",
        "                            rating = cells[rating_index].get_text(strip=True)\n",
        "                            cleaned_pest_name = clean_pest_name(pest_name)\n",
        "                            pests_data.append({\n",
        "                                'Pest': cleaned_pest_name,\n",
        "                                'Active Ingredient': active_ingredient,\n",
        "                                'Rating': rating\n",
        "                            })\n",
        "    return pests_data"
      ],
      "metadata": {
        "id": "nJoprwobmCe8"
      },
      "execution_count": null,
      "outputs": []
    },
    {
      "cell_type": "markdown",
      "source": [
        "# **Combine into tabular format in CSV**"
      ],
      "metadata": {
        "id": "8Y4NaPcRmWTp"
      }
    },
    {
      "cell_type": "code",
      "source": [
        "def write_combined_data_to_csv(data, filename):\n",
        "    with open(filename, 'w', newline='', encoding='utf-8') as csvfile:\n",
        "        writer = csv.DictWriter(csvfile, fieldnames=['Crop', 'Location', 'Pest', 'Active Ingredient', 'Rating'])\n",
        "        writer.writeheader()\n",
        "        for entry in data:\n",
        "            writer.writerow(entry)"
      ],
      "metadata": {
        "id": "sP_qgO7VmghF"
      },
      "execution_count": null,
      "outputs": []
    },
    {
      "cell_type": "markdown",
      "source": [
        "Extra if needed - count rows in CSV"
      ],
      "metadata": {
        "id": "5XO-oSlCq4SB"
      }
    },
    {
      "cell_type": "code",
      "source": [
        "def count_rows_in_csv(filename):\n",
        "    df = pd.read_csv(filename)\n",
        "    num_rows = df.shape[0]\n",
        "    print(f'The CSV file has {num_rows} rows.')"
      ],
      "metadata": {
        "id": "Vlkcdy5Iq_u2"
      },
      "execution_count": null,
      "outputs": []
    },
    {
      "cell_type": "markdown",
      "source": [
        "# **Main and store to drive**"
      ],
      "metadata": {
        "id": "nz-LyBRiml5P"
      }
    },
    {
      "cell_type": "code",
      "source": [
        "from google.colab import drive\n",
        "drive.mount('/content/drive')\n"
      ],
      "metadata": {
        "colab": {
          "base_uri": "https://localhost:8080/"
        },
        "id": "V2LDWpcjoFFk",
        "outputId": "f83fdc58-9ed7-4714-833f-66f7f942622e",
        "collapsed": true
      },
      "execution_count": null,
      "outputs": [
        {
          "output_type": "stream",
          "name": "stdout",
          "text": [
            "Drive already mounted at /content/drive; to attempt to forcibly remount, call drive.mount(\"/content/drive\", force_remount=True).\n"
          ]
        }
      ]
    },
    {
      "cell_type": "code",
      "source": [
        "def write_combined_data_to_csv(data, filename='combined_data.csv'):\n",
        "    path = '/content/drive/My Drive/' + filename\n",
        "    data.to_csv(path, index=False)"
      ],
      "metadata": {
        "id": "GflqD8EyoXrj"
      },
      "execution_count": null,
      "outputs": []
    },
    {
      "cell_type": "code",
      "source": [
        "def main():\n",
        "    main_page_url = 'https://ipmdata.ipmcenters.org/source_list.cfm?sourcetypeid=4'\n",
        "    links = scrape_main_page(main_page_url)\n",
        "\n",
        "    all_data = []\n",
        "\n",
        "    for link in links:\n",
        "        soup = fetch_page(link)\n",
        "        settings, region = extract_settings_and_region(soup)\n",
        "        pests_data = extract_pests(soup)\n",
        "\n",
        "        if pests_data:\n",
        "            for pest_info in pests_data:\n",
        "                pest_info['Crop'] = settings\n",
        "                pest_info['Location'] = region\n",
        "                all_data.append(pest_info)\n",
        "\n",
        "    df = pd.DataFrame(all_data)\n",
        "\n",
        "    # Write the combined data to a CSV file\n",
        "    write_combined_data_to_csv(df, 'combined_data.csv')\n",
        "\n",
        "    count_rows_in_csv('/content/drive/My Drive/combined_data.csv')\n",
        "\n",
        "    print(\"Combined data has been written to 'combined_data.csv'.\")\n",
        "\n",
        "if __name__ == '__main__':\n",
        "    main()\n"
      ],
      "metadata": {
        "colab": {
          "base_uri": "https://localhost:8080/"
        },
        "id": "5IvQ4UoMmorA",
        "outputId": "86003ebb-3273-46bd-e9c9-e3a5c83ea49b"
      },
      "execution_count": null,
      "outputs": [
        {
          "output_type": "stream",
          "name": "stdout",
          "text": [
            "The CSV file has 163518 rows.\n",
            "Combined data has been written to 'combined_data.csv'.\n"
          ]
        }
      ]
    },
    {
      "cell_type": "markdown",
      "source": [
        "Possibility to download (if drive is not functional)"
      ],
      "metadata": {
        "id": "BIC5Z0jgoGmR"
      }
    },
    {
      "cell_type": "code",
      "source": [
        "''' from google.colab import files\n",
        "files.download('combined_data.csv') '''"
      ],
      "metadata": {
        "id": "3hah7QjAm2sE",
        "colab": {
          "base_uri": "https://localhost:8080/",
          "height": 35
        },
        "outputId": "1365ea92-84d6-4eb5-f39b-a7f720d00dc7"
      },
      "execution_count": null,
      "outputs": [
        {
          "output_type": "execute_result",
          "data": {
            "text/plain": [
              "\" from google.colab import files\\nfiles.download('combined_data.csv') \""
            ],
            "application/vnd.google.colaboratory.intrinsic+json": {
              "type": "string"
            }
          },
          "metadata": {},
          "execution_count": 18
        }
      ]
    },
    {
      "cell_type": "markdown",
      "source": [
        "# **Model (Data Preparation) - Start from here if CSV is in drive**"
      ],
      "metadata": {
        "id": "WcNgNR80nIfC"
      }
    },
    {
      "cell_type": "code",
      "source": [
        "# @title Kill function to restart runtime\n",
        "import os\n",
        "import sys\n",
        "\n",
        "def restart_runtime():\n",
        "    os.kill(os.getpid(), 9)\n",
        "\n",
        "restart_runtime()"
      ],
      "metadata": {
        "cellView": "form",
        "id": "RcoETZBupUGZ"
      },
      "execution_count": null,
      "outputs": []
    },
    {
      "cell_type": "code",
      "source": [
        "!pip install torch"
      ],
      "metadata": {
        "collapsed": true,
        "id": "LtNz-Abt7CoY"
      },
      "execution_count": null,
      "outputs": []
    },
    {
      "cell_type": "code",
      "source": [
        "!pip install datasets"
      ],
      "metadata": {
        "collapsed": true,
        "id": "-KgkZLRWx9MR",
        "colab": {
          "base_uri": "https://localhost:8080/",
          "height": 1000
        },
        "outputId": "ba8625c4-bf92-4ea6-9dbe-5b945435b740"
      },
      "execution_count": null,
      "outputs": [
        {
          "output_type": "stream",
          "name": "stdout",
          "text": [
            "Collecting datasets\n",
            "  Downloading datasets-2.20.0-py3-none-any.whl.metadata (19 kB)\n",
            "Requirement already satisfied: filelock in /usr/local/lib/python3.10/dist-packages (from datasets) (3.15.4)\n",
            "Requirement already satisfied: numpy>=1.17 in /usr/local/lib/python3.10/dist-packages (from datasets) (1.26.4)\n",
            "Collecting pyarrow>=15.0.0 (from datasets)\n",
            "  Downloading pyarrow-17.0.0-cp310-cp310-manylinux_2_28_x86_64.whl.metadata (3.3 kB)\n",
            "Requirement already satisfied: pyarrow-hotfix in /usr/local/lib/python3.10/dist-packages (from datasets) (0.6)\n",
            "Collecting dill<0.3.9,>=0.3.0 (from datasets)\n",
            "  Downloading dill-0.3.8-py3-none-any.whl.metadata (10 kB)\n",
            "Requirement already satisfied: pandas in /usr/local/lib/python3.10/dist-packages (from datasets) (2.1.4)\n",
            "Requirement already satisfied: requests>=2.32.2 in /usr/local/lib/python3.10/dist-packages (from datasets) (2.32.3)\n",
            "Requirement already satisfied: tqdm>=4.66.3 in /usr/local/lib/python3.10/dist-packages (from datasets) (4.66.5)\n",
            "Collecting xxhash (from datasets)\n",
            "  Downloading xxhash-3.4.1-cp310-cp310-manylinux_2_17_x86_64.manylinux2014_x86_64.whl.metadata (12 kB)\n",
            "Collecting multiprocess (from datasets)\n",
            "  Downloading multiprocess-0.70.16-py310-none-any.whl.metadata (7.2 kB)\n",
            "Collecting fsspec<=2024.5.0,>=2023.1.0 (from fsspec[http]<=2024.5.0,>=2023.1.0->datasets)\n",
            "  Downloading fsspec-2024.5.0-py3-none-any.whl.metadata (11 kB)\n",
            "Requirement already satisfied: aiohttp in /usr/local/lib/python3.10/dist-packages (from datasets) (3.10.1)\n",
            "Requirement already satisfied: huggingface-hub>=0.21.2 in /usr/local/lib/python3.10/dist-packages (from datasets) (0.23.5)\n",
            "Requirement already satisfied: packaging in /usr/local/lib/python3.10/dist-packages (from datasets) (24.1)\n",
            "Requirement already satisfied: pyyaml>=5.1 in /usr/local/lib/python3.10/dist-packages (from datasets) (6.0.1)\n",
            "Requirement already satisfied: aiohappyeyeballs>=2.3.0 in /usr/local/lib/python3.10/dist-packages (from aiohttp->datasets) (2.3.4)\n",
            "Requirement already satisfied: aiosignal>=1.1.2 in /usr/local/lib/python3.10/dist-packages (from aiohttp->datasets) (1.3.1)\n",
            "Requirement already satisfied: attrs>=17.3.0 in /usr/local/lib/python3.10/dist-packages (from aiohttp->datasets) (24.1.0)\n",
            "Requirement already satisfied: frozenlist>=1.1.1 in /usr/local/lib/python3.10/dist-packages (from aiohttp->datasets) (1.4.1)\n",
            "Requirement already satisfied: multidict<7.0,>=4.5 in /usr/local/lib/python3.10/dist-packages (from aiohttp->datasets) (6.0.5)\n",
            "Requirement already satisfied: yarl<2.0,>=1.0 in /usr/local/lib/python3.10/dist-packages (from aiohttp->datasets) (1.9.4)\n",
            "Requirement already satisfied: async-timeout<5.0,>=4.0 in /usr/local/lib/python3.10/dist-packages (from aiohttp->datasets) (4.0.3)\n",
            "Requirement already satisfied: typing-extensions>=3.7.4.3 in /usr/local/lib/python3.10/dist-packages (from huggingface-hub>=0.21.2->datasets) (4.12.2)\n",
            "Requirement already satisfied: charset-normalizer<4,>=2 in /usr/local/lib/python3.10/dist-packages (from requests>=2.32.2->datasets) (3.3.2)\n",
            "Requirement already satisfied: idna<4,>=2.5 in /usr/local/lib/python3.10/dist-packages (from requests>=2.32.2->datasets) (3.7)\n",
            "Requirement already satisfied: urllib3<3,>=1.21.1 in /usr/local/lib/python3.10/dist-packages (from requests>=2.32.2->datasets) (2.0.7)\n",
            "Requirement already satisfied: certifi>=2017.4.17 in /usr/local/lib/python3.10/dist-packages (from requests>=2.32.2->datasets) (2024.7.4)\n",
            "Requirement already satisfied: python-dateutil>=2.8.2 in /usr/local/lib/python3.10/dist-packages (from pandas->datasets) (2.8.2)\n",
            "Requirement already satisfied: pytz>=2020.1 in /usr/local/lib/python3.10/dist-packages (from pandas->datasets) (2024.1)\n",
            "Requirement already satisfied: tzdata>=2022.1 in /usr/local/lib/python3.10/dist-packages (from pandas->datasets) (2024.1)\n",
            "Requirement already satisfied: six>=1.5 in /usr/local/lib/python3.10/dist-packages (from python-dateutil>=2.8.2->pandas->datasets) (1.16.0)\n",
            "Downloading datasets-2.20.0-py3-none-any.whl (547 kB)\n",
            "\u001b[2K   \u001b[90m━━━━━━━━━━━━━━━━━━━━━━━━━━━━━━━━━━━━━━━━\u001b[0m \u001b[32m547.8/547.8 kB\u001b[0m \u001b[31m35.0 MB/s\u001b[0m eta \u001b[36m0:00:00\u001b[0m\n",
            "\u001b[?25hDownloading dill-0.3.8-py3-none-any.whl (116 kB)\n",
            "\u001b[2K   \u001b[90m━━━━━━━━━━━━━━━━━━━━━━━━━━━━━━━━━━━━━━━━\u001b[0m \u001b[32m116.3/116.3 kB\u001b[0m \u001b[31m9.9 MB/s\u001b[0m eta \u001b[36m0:00:00\u001b[0m\n",
            "\u001b[?25hDownloading fsspec-2024.5.0-py3-none-any.whl (316 kB)\n",
            "\u001b[2K   \u001b[90m━━━━━━━━━━━━━━━━━━━━━━━━━━━━━━━━━━━━━━━━\u001b[0m \u001b[32m316.1/316.1 kB\u001b[0m \u001b[31m24.6 MB/s\u001b[0m eta \u001b[36m0:00:00\u001b[0m\n",
            "\u001b[?25hDownloading pyarrow-17.0.0-cp310-cp310-manylinux_2_28_x86_64.whl (39.9 MB)\n",
            "\u001b[2K   \u001b[90m━━━━━━━━━━━━━━━━━━━━━━━━━━━━━━━━━━━━━━━━\u001b[0m \u001b[32m39.9/39.9 MB\u001b[0m \u001b[31m25.0 MB/s\u001b[0m eta \u001b[36m0:00:00\u001b[0m\n",
            "\u001b[?25hDownloading multiprocess-0.70.16-py310-none-any.whl (134 kB)\n",
            "\u001b[2K   \u001b[90m━━━━━━━━━━━━━━━━━━━━━━━━━━━━━━━━━━━━━━━━\u001b[0m \u001b[32m134.8/134.8 kB\u001b[0m \u001b[31m11.7 MB/s\u001b[0m eta \u001b[36m0:00:00\u001b[0m\n",
            "\u001b[?25hDownloading xxhash-3.4.1-cp310-cp310-manylinux_2_17_x86_64.manylinux2014_x86_64.whl (194 kB)\n",
            "\u001b[2K   \u001b[90m━━━━━━━━━━━━━━━━━━━━━━━━━━━━━━━━━━━━━━━━\u001b[0m \u001b[32m194.1/194.1 kB\u001b[0m \u001b[31m16.1 MB/s\u001b[0m eta \u001b[36m0:00:00\u001b[0m\n",
            "\u001b[?25hInstalling collected packages: xxhash, pyarrow, fsspec, dill, multiprocess, datasets\n",
            "  Attempting uninstall: pyarrow\n",
            "    Found existing installation: pyarrow 14.0.2\n",
            "    Uninstalling pyarrow-14.0.2:\n",
            "      Successfully uninstalled pyarrow-14.0.2\n",
            "  Attempting uninstall: fsspec\n",
            "    Found existing installation: fsspec 2024.6.1\n",
            "    Uninstalling fsspec-2024.6.1:\n",
            "      Successfully uninstalled fsspec-2024.6.1\n",
            "\u001b[31mERROR: pip's dependency resolver does not currently take into account all the packages that are installed. This behaviour is the source of the following dependency conflicts.\n",
            "torch 2.3.1+cu121 requires nvidia-cublas-cu12==12.1.3.1; platform_system == \"Linux\" and platform_machine == \"x86_64\", which is not installed.\n",
            "torch 2.3.1+cu121 requires nvidia-cuda-cupti-cu12==12.1.105; platform_system == \"Linux\" and platform_machine == \"x86_64\", which is not installed.\n",
            "torch 2.3.1+cu121 requires nvidia-cuda-nvrtc-cu12==12.1.105; platform_system == \"Linux\" and platform_machine == \"x86_64\", which is not installed.\n",
            "torch 2.3.1+cu121 requires nvidia-cuda-runtime-cu12==12.1.105; platform_system == \"Linux\" and platform_machine == \"x86_64\", which is not installed.\n",
            "torch 2.3.1+cu121 requires nvidia-cudnn-cu12==8.9.2.26; platform_system == \"Linux\" and platform_machine == \"x86_64\", which is not installed.\n",
            "torch 2.3.1+cu121 requires nvidia-cufft-cu12==11.0.2.54; platform_system == \"Linux\" and platform_machine == \"x86_64\", which is not installed.\n",
            "torch 2.3.1+cu121 requires nvidia-curand-cu12==10.3.2.106; platform_system == \"Linux\" and platform_machine == \"x86_64\", which is not installed.\n",
            "torch 2.3.1+cu121 requires nvidia-cusolver-cu12==11.4.5.107; platform_system == \"Linux\" and platform_machine == \"x86_64\", which is not installed.\n",
            "torch 2.3.1+cu121 requires nvidia-cusparse-cu12==12.1.0.106; platform_system == \"Linux\" and platform_machine == \"x86_64\", which is not installed.\n",
            "torch 2.3.1+cu121 requires nvidia-nccl-cu12==2.20.5; platform_system == \"Linux\" and platform_machine == \"x86_64\", which is not installed.\n",
            "torch 2.3.1+cu121 requires nvidia-nvtx-cu12==12.1.105; platform_system == \"Linux\" and platform_machine == \"x86_64\", which is not installed.\n",
            "cudf-cu12 24.4.1 requires pyarrow<15.0.0a0,>=14.0.1, but you have pyarrow 17.0.0 which is incompatible.\n",
            "gcsfs 2024.6.1 requires fsspec==2024.6.1, but you have fsspec 2024.5.0 which is incompatible.\n",
            "ibis-framework 8.0.0 requires pyarrow<16,>=2, but you have pyarrow 17.0.0 which is incompatible.\u001b[0m\u001b[31m\n",
            "\u001b[0mSuccessfully installed datasets-2.20.0 dill-0.3.8 fsspec-2024.5.0 multiprocess-0.70.16 pyarrow-17.0.0 xxhash-3.4.1\n"
          ]
        },
        {
          "output_type": "display_data",
          "data": {
            "application/vnd.colab-display-data+json": {
              "pip_warning": {
                "packages": [
                  "pyarrow"
                ]
              },
              "id": "6e72ea5f10304ed2aad3b4e97f5ff4e9"
            }
          },
          "metadata": {}
        }
      ]
    },
    {
      "cell_type": "code",
      "source": [
        "from google.colab import drive\n",
        "drive.mount('/content/drive')\n"
      ],
      "metadata": {
        "colab": {
          "base_uri": "https://localhost:8080/"
        },
        "outputId": "bcc50a44-5db1-49ff-aec3-31331da32903",
        "id": "t4kCYWtoCspG"
      },
      "execution_count": null,
      "outputs": [
        {
          "output_type": "stream",
          "name": "stdout",
          "text": [
            "Drive already mounted at /content/drive; to attempt to forcibly remount, call drive.mount(\"/content/drive\", force_remount=True).\n"
          ]
        }
      ]
    },
    {
      "cell_type": "code",
      "source": [
        "import pandas as pd\n",
        "import torch\n",
        "import numpy as np\n",
        "from transformers import AutoTokenizer\n",
        "from transformers import AutoModelForSequenceClassification, Trainer, TrainingArguments\n",
        "from transformers import TrainerCallback\n",
        "from torch.optim.lr_scheduler import ReduceLROnPlateau\n",
        "from datasets import DatasetDict\n",
        "from datasets import Dataset\n",
        "from sklearn.model_selection import train_test_split\n",
        "from sklearn.metrics import accuracy_score\n",
        "from sklearn.metrics import precision_score, recall_score, classification_report"
      ],
      "metadata": {
        "id": "M8ZvPajQx3ci",
        "collapsed": true
      },
      "execution_count": null,
      "outputs": []
    },
    {
      "cell_type": "code",
      "source": [
        "\n",
        "def load_csv_from_drive(filename):\n",
        "    path = '/content/drive/My Drive/' + filename\n",
        "    return pd.read_csv(path)\n",
        "\n",
        "combined_table = load_csv_from_drive('combined_data.csv')\n",
        "\n",
        "print(\"Column names in the CSV file:\")\n",
        "print(combined_table.columns)\n"
      ],
      "metadata": {
        "colab": {
          "base_uri": "https://localhost:8080/"
        },
        "id": "9c44TjfsurUr",
        "outputId": "8768f93d-d3c7-4a9b-9310-19a4bf1e1ce0",
        "collapsed": true
      },
      "execution_count": null,
      "outputs": [
        {
          "output_type": "stream",
          "name": "stdout",
          "text": [
            "Column names in the CSV file:\n",
            "Index(['Pest', 'Active Ingredient', 'Rating', 'Crop', 'Location'], dtype='object')\n"
          ]
        }
      ]
    },
    {
      "cell_type": "code",
      "source": [
        "def create_text_entry(row):\n",
        "    return (f\"Crop: {row['Crop']}\\n\"\n",
        "            f\"Location: {row['Location']}\\n\"\n",
        "            f\"Pest/Disease/etc: {row['Pest']}\\n\"\n",
        "            f\"Solution: {row['Active Ingredient']}\\n\"\n",
        "            f\"Rating: {row['Rating']}\\n\")\n",
        "\n",
        "combined_table = load_csv_from_drive('combined_data.csv')\n",
        "\n",
        "text_entries = combined_table.apply(create_text_entry, axis=1)\n",
        "\n",
        "# Save the text data to a file\n",
        "text_file_path = '/content/drive/My Drive/pest_info.txt'\n",
        "with open(text_file_path, 'w') as f:\n",
        "    for entry in text_entries:\n",
        "        f.write(entry + \"\\n\")\n"
      ],
      "metadata": {
        "id": "JRjcAWEstdoe"
      },
      "execution_count": null,
      "outputs": []
    },
    {
      "cell_type": "code",
      "source": [
        "# Read and print the first 5 rows of the text file\n",
        "with open(text_file_path, 'r') as f:\n",
        "    lines = f.readlines()\n",
        "    print(''.join(lines[:5]))"
      ],
      "metadata": {
        "colab": {
          "base_uri": "https://localhost:8080/"
        },
        "id": "xYPdENb4vBzN",
        "outputId": "8a7e86ae-b97c-4769-f480-3f8d65af731f"
      },
      "execution_count": null,
      "outputs": [
        {
          "output_type": "stream",
          "name": "stdout",
          "text": [
            "Crop: Pine Tree, Tree Nursery\n",
            "Location: Southern\n",
            "Pest/Disease/etc: armyworms\n",
            "Solution: Permethrin\n",
            "Rating: Excellent, 90-100%\n",
            "\n"
          ]
        }
      ]
    },
    {
      "cell_type": "markdown",
      "source": [
        "# **Open text file and reorganize DataFrame**"
      ],
      "metadata": {
        "id": "VND-fi9exKUC"
      }
    },
    {
      "cell_type": "code",
      "source": [
        "with open('/content/drive/My Drive/pest_info.txt', 'r') as file:\n",
        "    lines = file.readlines()\n",
        "\n",
        "# Process lines into a list of dictionaries\n",
        "data = []\n",
        "for i in range(0, len(lines), 6):\n",
        "    entry = {\n",
        "        'Crop': lines[i].replace('Crop: ', '').strip(),\n",
        "        'Location': lines[i+1].replace('Location: ', '').strip(),\n",
        "        'Pest/Disease/etc': lines[i+2].replace('Pest/Disease/etc: ', '').strip(),\n",
        "        'Solution': lines[i+3].replace('Solution: ', '').strip(),\n",
        "        'Rating': lines[i+4].replace('Rating: ', '').strip()\n",
        "    }\n",
        "    data.append(entry)\n",
        "\n",
        "df = pd.DataFrame(data)\n",
        "\n",
        "\n",
        "df = df.dropna(subset=['Solution'])\n",
        "df = df[df['Solution'].str.strip() != '']\n",
        "df = df[df['Solution'].str.strip() != 'nan']\n",
        "df = df.dropna(subset=['Rating'])\n",
        "df = df[df['Rating'].str.strip() != '']\n",
        "df = df[df['Rating'].str.strip() != 'nan']\n",
        "\n",
        "desired_ratings = [\n",
        "    'Good to Excellent, 80-100%',\n",
        "    'Excellent, 90-100%',\n",
        "    'Good, 80-90%',\n",
        "    'Good to Excellent, 80-100%',\n",
        "    'Fair to Good, 50-90%',\n",
        "    'Fair to Excellent, 50-100%',\n",
        "    'Excellent, more research needed',\n",
        "    'highly effective for control of indicated disease',\n",
        "    'effective for control of indicated disease,',\n",
        "    'very good'\n",
        "]\n",
        "\n",
        "df = df[df['Rating'].isin(desired_ratings)]\n",
        "\n",
        "df['text'] = df.apply(lambda row: f\"Crop: {row['Crop']}\\nLocation: {row['Location']}\\nPest/Disease/etc: {row['Pest/Disease/etc']}\\nSolution: {row['Solution']}\\nRating: {row['Rating']}\", axis=1)\n",
        "\n",
        "print(df.head())\n",
        "print(df.shape)"
      ],
      "metadata": {
        "colab": {
          "base_uri": "https://localhost:8080/"
        },
        "id": "zVPEUcQPwgXJ",
        "outputId": "52ffb84b-5b57-4bb1-cf4d-e2de8cd48d2b"
      },
      "execution_count": null,
      "outputs": [
        {
          "output_type": "stream",
          "name": "stdout",
          "text": [
            "                      Crop  Location  Pest/Disease/etc    Solution  \\\n",
            "0  Pine Tree, Tree Nursery  Southern         armyworms  Permethrin   \n",
            "1  Pine Tree, Tree Nursery  Southern  conifer sawflies    Acephate   \n",
            "2  Pine Tree, Tree Nursery  Southern  conifer sawflies  Bifenthrin   \n",
            "3  Pine Tree, Tree Nursery  Southern  conifer sawflies    Carbaryl   \n",
            "4  Pine Tree, Tree Nursery  Southern  conifer sawflies  Cyfluthrin   \n",
            "\n",
            "               Rating                                               text  \n",
            "0  Excellent, 90-100%  Crop: Pine Tree, Tree Nursery\\nLocation: South...  \n",
            "1        Good, 80-90%  Crop: Pine Tree, Tree Nursery\\nLocation: South...  \n",
            "2        Good, 80-90%  Crop: Pine Tree, Tree Nursery\\nLocation: South...  \n",
            "3        Good, 80-90%  Crop: Pine Tree, Tree Nursery\\nLocation: South...  \n",
            "4        Good, 80-90%  Crop: Pine Tree, Tree Nursery\\nLocation: South...  \n",
            "(51988, 6)\n"
          ]
        }
      ]
    },
    {
      "cell_type": "markdown",
      "source": [
        "# **Encode labels - Train and Test**"
      ],
      "metadata": {
        "id": "sY10Vkf7yPI3"
      }
    },
    {
      "cell_type": "code",
      "source": [
        "sample_size = 5000\n",
        "sampled_df = df.sample(n=sample_size, random_state=42)\n",
        "\n",
        "if 'spinach' not in sampled_df['Crop'].str.lower().unique():\n",
        "    spinach_df = df[df['Crop'].str.lower() == 'spinach']\n",
        "\n",
        "    spinach_sample_size = min(len(spinach_df), 500)\n",
        "    sampled_spinach_df = spinach_df.sample(n=spinach_sample_size, random_state=42)\n",
        "\n",
        "    remaining_size = sample_size - spinach_sample_size\n",
        "    remaining_df = df[df['Crop'].str.lower() != 'spinach']\n",
        "\n",
        "    sampled_remaining_df = remaining_df.sample(n=remaining_size, random_state=42) if remaining_size > 0 else pd.DataFrame()\n",
        "\n",
        "    sampled_df = pd.concat([sampled_spinach_df, sampled_remaining_df])\n",
        "else:\n",
        "    sampled_df = sampled_df\n",
        "\n",
        "\n",
        "label_encoder = {label: idx for idx, label in enumerate(df['Solution'].unique())}\n",
        "sampled_df['label'] = sampled_df['Solution'].map(label_encoder)\n",
        "\n",
        "train_df, test_df = train_test_split(sampled_df, test_size=0.2, random_state=42)\n",
        "\n",
        "# Convert the DataFrames to Hugging Face Datasets\n",
        "train_dataset = Dataset.from_pandas(train_df)\n",
        "test_dataset = Dataset.from_pandas(test_df)"
      ],
      "metadata": {
        "id": "dXpd0ym0yLOF",
        "collapsed": true
      },
      "execution_count": null,
      "outputs": []
    },
    {
      "cell_type": "code",
      "source": [
        "dataset_dict = DatasetDict({\n",
        "    'train': train_dataset,\n",
        "    'test': test_dataset\n",
        "})"
      ],
      "metadata": {
        "id": "A0gXruHG8-y_"
      },
      "execution_count": null,
      "outputs": []
    },
    {
      "cell_type": "code",
      "source": [
        "unique_plants = train_df['Crop'].unique()\n",
        "\n",
        "print(unique_plants)\n"
      ],
      "metadata": {
        "colab": {
          "base_uri": "https://localhost:8080/"
        },
        "id": "YeCHaL3_y05m",
        "outputId": "a5e71c18-68ba-4a16-ccc6-7568f2f96ca4"
      },
      "execution_count": null,
      "outputs": [
        {
          "output_type": "stream",
          "name": "stdout",
          "text": [
            "['Alfalfa' 'Chickpea, Lentil, Pea, Dry, Pulse' 'Apple' 'Mint' 'Peanut'\n",
            " 'Strawberry' 'Pepper' 'Peach' 'Wheat' 'Plum' 'Blueberry' 'Corn, Sweet'\n",
            " 'Christmas Trees' 'Nectarine' 'Celery' 'Cotton' 'Cherry, Tart'\n",
            " 'Bean, Snap, Green' 'Cherry' 'Tomato' 'Carrot' 'Grape, Grape, Wine'\n",
            " 'Grape, Grape, Table' 'Potato' 'Ginseng' 'Pepper, Bell' 'Pear'\n",
            " 'Watermelon' 'Almond' 'Small Grain' 'Avocado' 'Onion, Onion, Bulb'\n",
            " 'Banana' 'Pine Tree, Tree Nursery' 'Kiwi' 'Cabbage' 'Cranberry'\n",
            " 'Sorghum, Grain' 'Asparagus' 'Blackberry' 'Olive' 'Spinach']\n"
          ]
        }
      ]
    },
    {
      "cell_type": "markdown",
      "source": [
        "# **Tokenizer**"
      ],
      "metadata": {
        "id": "q00UEUHRzDZR"
      }
    },
    {
      "cell_type": "code",
      "source": [
        "tokenizer = AutoTokenizer.from_pretrained(\"Intel/dynamic_tinybert\")\n",
        "\n",
        "def tokenize_function(examples):\n",
        "\n",
        "    tokens = tokenizer(examples['text'], padding='max_length', truncation=True, max_length=120)\n",
        "    tokens['labels'] = [label_encoder[label] for label in examples['Solution']]\n",
        "\n",
        "    # Convert numpy arrays to PyTorch tensors\n",
        "    tokens = {key: torch.tensor(val) for key, val in tokens.items()}\n",
        "    return tokens\n",
        "\n",
        "train_dataset = Dataset.from_pandas(train_df)\n",
        "test_dataset = Dataset.from_pandas(test_df)\n",
        "\n",
        "tokenized_train_dataset = train_dataset.map(tokenize_function, batched=True)\n",
        "tokenized_test_dataset = test_dataset.map(tokenize_function, batched=True)\n",
        "\n",
        "print(tokenized_train_dataset[0])\n",
        "print(tokenized_train_dataset.column_names)"
      ],
      "metadata": {
        "colab": {
          "base_uri": "https://localhost:8080/",
          "height": 136,
          "referenced_widgets": [
            "492e563a422d495eb655ae2fd208ed24",
            "894dc84c803f4963a3c1cbebf15e3c87",
            "8b371bef332b419c94d0b65511145cf7",
            "caacdec679a449a9b62b0ddc754fcc01",
            "237db46a2d1d4693bdbdd5b047a38ec9",
            "944c5c68c0bf4bb9a9a7b28734954701",
            "8379caa01294439298f1704d31a3c0db",
            "2e8faef006714aceb868f2c13268c6e5",
            "5fecd3e50509430d9ee394a4a62ac758",
            "9ab2139869b34f128cf53c8f1fa0db78",
            "2694b2e7e7894006863b3dc11634355b",
            "4c4c713171ac4702aecc6ff1a6b6510f",
            "fe08abd3a14e4138a7c47c036b9d85a6",
            "a7b318919fa14b41949774314f81cd47",
            "fa266ff9b1a9449a8745d2d51b2f02c7",
            "4970da0d17f7481a8cd031d0605e1106",
            "a08e061aa9474ba2be68935b9f25478f",
            "7efec7e25ac6433a92184a49d37e82da",
            "459c5e06a19d4229a7ac5fa450900eea",
            "e8a43531bf1849a48b35838c6d2cece0",
            "28cd813bc6e942ec9960253dc2fc3bb1",
            "b40b89cbd58a46faa7090503b52911cc"
          ]
        },
        "id": "0v5ZMbqvzJ98",
        "outputId": "58d2af5c-d429-4e77-88be-4faa44e503a2",
        "collapsed": true
      },
      "execution_count": null,
      "outputs": [
        {
          "output_type": "display_data",
          "data": {
            "text/plain": [
              "Map:   0%|          | 0/4000 [00:00<?, ? examples/s]"
            ],
            "application/vnd.jupyter.widget-view+json": {
              "version_major": 2,
              "version_minor": 0,
              "model_id": "492e563a422d495eb655ae2fd208ed24"
            }
          },
          "metadata": {}
        },
        {
          "output_type": "display_data",
          "data": {
            "text/plain": [
              "Map:   0%|          | 0/1000 [00:00<?, ? examples/s]"
            ],
            "application/vnd.jupyter.widget-view+json": {
              "version_major": 2,
              "version_minor": 0,
              "model_id": "4c4c713171ac4702aecc6ff1a6b6510f"
            }
          },
          "metadata": {}
        },
        {
          "output_type": "stream",
          "name": "stdout",
          "text": [
            "{'Crop': 'Alfalfa', 'Location': 'Western', 'Pest/Disease/etc': 'alfalfa weevil', 'Solution': 'Post-harvest cultivation', 'Rating': 'Good, 80-90%', 'text': 'Crop: Alfalfa\\nLocation: Western\\nPest/Disease/etc: alfalfa weevil\\nSolution: Post-harvest cultivation\\nRating: Good, 80-90%', 'label': 420, '__index_level_0__': 45637, 'input_ids': [101, 10416, 1024, 22989, 10270, 2050, 3295, 1024, 2530, 20739, 1013, 4295, 1013, 4385, 1024, 22989, 10270, 2050, 16776, 14762, 5576, 1024, 2695, 1011, 11203, 13142, 5790, 1024, 2204, 1010, 3770, 1011, 3938, 1003, 102, 0, 0, 0, 0, 0, 0, 0, 0, 0, 0, 0, 0, 0, 0, 0, 0, 0, 0, 0, 0, 0, 0, 0, 0, 0, 0, 0, 0, 0, 0, 0, 0, 0, 0, 0, 0, 0, 0, 0, 0, 0, 0, 0, 0, 0, 0, 0, 0, 0, 0, 0, 0, 0, 0, 0, 0, 0, 0, 0, 0, 0, 0, 0, 0, 0, 0, 0, 0, 0, 0, 0, 0, 0, 0, 0, 0, 0, 0, 0, 0, 0, 0, 0, 0, 0], 'token_type_ids': [0, 0, 0, 0, 0, 0, 0, 0, 0, 0, 0, 0, 0, 0, 0, 0, 0, 0, 0, 0, 0, 0, 0, 0, 0, 0, 0, 0, 0, 0, 0, 0, 0, 0, 0, 0, 0, 0, 0, 0, 0, 0, 0, 0, 0, 0, 0, 0, 0, 0, 0, 0, 0, 0, 0, 0, 0, 0, 0, 0, 0, 0, 0, 0, 0, 0, 0, 0, 0, 0, 0, 0, 0, 0, 0, 0, 0, 0, 0, 0, 0, 0, 0, 0, 0, 0, 0, 0, 0, 0, 0, 0, 0, 0, 0, 0, 0, 0, 0, 0, 0, 0, 0, 0, 0, 0, 0, 0, 0, 0, 0, 0, 0, 0, 0, 0, 0, 0, 0, 0], 'attention_mask': [1, 1, 1, 1, 1, 1, 1, 1, 1, 1, 1, 1, 1, 1, 1, 1, 1, 1, 1, 1, 1, 1, 1, 1, 1, 1, 1, 1, 1, 1, 1, 1, 1, 1, 1, 0, 0, 0, 0, 0, 0, 0, 0, 0, 0, 0, 0, 0, 0, 0, 0, 0, 0, 0, 0, 0, 0, 0, 0, 0, 0, 0, 0, 0, 0, 0, 0, 0, 0, 0, 0, 0, 0, 0, 0, 0, 0, 0, 0, 0, 0, 0, 0, 0, 0, 0, 0, 0, 0, 0, 0, 0, 0, 0, 0, 0, 0, 0, 0, 0, 0, 0, 0, 0, 0, 0, 0, 0, 0, 0, 0, 0, 0, 0, 0, 0, 0, 0, 0, 0], 'labels': 420}\n",
            "['Crop', 'Location', 'Pest/Disease/etc', 'Solution', 'Rating', 'text', 'label', '__index_level_0__', 'input_ids', 'token_type_ids', 'attention_mask', 'labels']\n"
          ]
        }
      ]
    },
    {
      "cell_type": "markdown",
      "source": [
        "# **Initialize pretrained tinyBERT model**"
      ],
      "metadata": {
        "id": "5QUThm7H2o2b"
      }
    },
    {
      "cell_type": "code",
      "source": [
        "num_labels = len(label_encoder)  # Number of unique pests/diseases\n",
        "model = AutoModelForSequenceClassification.from_pretrained(\"Intel/dynamic_tinybert\", num_labels=num_labels)"
      ],
      "metadata": {
        "colab": {
          "base_uri": "https://localhost:8080/"
        },
        "id": "qvaTL4pn4Fgh",
        "outputId": "2d8510b8-68f3-4f5b-c287-d26f4fa7b2cd"
      },
      "execution_count": null,
      "outputs": [
        {
          "output_type": "stream",
          "name": "stderr",
          "text": [
            "Some weights of BertForSequenceClassification were not initialized from the model checkpoint at Intel/dynamic_tinybert and are newly initialized: ['bert.pooler.dense.bias', 'bert.pooler.dense.weight', 'classifier.bias', 'classifier.weight']\n",
            "You should probably TRAIN this model on a down-stream task to be able to use it for predictions and inference.\n"
          ]
        }
      ]
    },
    {
      "cell_type": "markdown",
      "source": [
        "# **Customize training process with specific optimizer and learning rate scheduler**"
      ],
      "metadata": {
        "id": "MCZ3cYvnbqVi"
      }
    },
    {
      "cell_type": "code",
      "source": [
        "from transformers import Trainer\n",
        "import torch\n",
        "\n",
        "class CustomTrainer(Trainer):\n",
        "    def __init__(self, *args, **kwargs):\n",
        "        super().__init__(*args, **kwargs)\n",
        "        self.optimizer = torch.optim.AdamW(self.model.parameters(), lr=2e-5)\n",
        "        self.scheduler = torch.optim.lr_scheduler.ReduceLROnPlateau(self.optimizer, mode='min', patience=2, factor=0.1)\n",
        "\n",
        "    def compute_loss(self, model, inputs, return_outputs=False):\n",
        "        outputs = model(**inputs)\n",
        "\n",
        "        # Extract logits and labels\n",
        "        logits = outputs.get(\"logits\")\n",
        "        labels = inputs.get(\"labels\")\n",
        "\n",
        "        if logits is None:\n",
        "            raise ValueError(\"Logits are missing in the output of the model. Check the model configuration.\")\n",
        "\n",
        "        if labels is None:\n",
        "            raise ValueError(\"Labels are missing in the input. Ensure your dataset is correctly processed.\")\n",
        "\n",
        "        if isinstance(labels, torch.Tensor):\n",
        "            labels = labels.to(self.model.device)\n",
        "\n",
        "        # Calculate loss\n",
        "        loss_fct = torch.nn.CrossEntropyLoss()\n",
        "        loss = loss_fct(logits.view(-1, self.model.config.num_labels), labels.view(-1))\n",
        "\n",
        "        return (loss, outputs) if return_outputs else loss\n",
        "\n",
        "    def training_step(self, model, inputs):\n",
        "        loss = super().training_step(model, inputs)\n",
        "        self.optimizer.step()\n",
        "        self.scheduler.step(loss)\n",
        "        return loss\n"
      ],
      "metadata": {
        "id": "kaiWaF9u37qN"
      },
      "execution_count": null,
      "outputs": []
    },
    {
      "cell_type": "code",
      "source": [
        "def compute_metrics(eval_pred):\n",
        "    logits, labels = eval_pred\n",
        "    predictions = logits.argmax(axis=-1)\n",
        "    accuracy = accuracy_score(labels, predictions)\n",
        "    return {\"accuracy\": accuracy}"
      ],
      "metadata": {
        "id": "PsYNCBbk4ufp"
      },
      "execution_count": null,
      "outputs": []
    },
    {
      "cell_type": "markdown",
      "source": [
        "# **Training arguments to fit data and train**"
      ],
      "metadata": {
        "id": "uwZhLhrpcFVX"
      }
    },
    {
      "cell_type": "code",
      "source": [
        "\n",
        "training_args = TrainingArguments(\n",
        "    output_dir='./results',\n",
        "    num_train_epochs=20,\n",
        "    per_device_train_batch_size=8,\n",
        "    per_device_eval_batch_size=8,\n",
        "    warmup_steps=500,\n",
        "    weight_decay=0.01,  # Regularization\n",
        "    logging_dir='./logs',\n",
        "    logging_steps=500,\n",
        "    eval_strategy=\"epoch\",\n",
        "    save_strategy=\"epoch\",\n",
        "    learning_rate=2e-5,\n",
        "    fp16=True, # Mixed Precision Training\n",
        "    load_best_model_at_end=True,\n",
        "    metric_for_best_model=\"accuracy\",\n",
        "    greater_is_better=True,\n",
        "    save_total_limit=2,\n",
        "    save_steps=1000,\n",
        "    seed=42,\n",
        ")\n",
        "\n",
        "trainer = CustomTrainer(\n",
        "    model=model,\n",
        "    args=training_args,\n",
        "    train_dataset=tokenized_train_dataset,\n",
        "    eval_dataset=tokenized_test_dataset,\n",
        "    compute_metrics=compute_metrics,\n",
        ")\n",
        "\n",
        "trainer.train()\n",
        "\n",
        "eval_results = trainer.evaluate()\n",
        "print(eval_results)"
      ],
      "metadata": {
        "colab": {
          "base_uri": "https://localhost:8080/",
          "height": 740
        },
        "id": "2wEq5ami2sto",
        "outputId": "2cd402eb-cfbe-472e-eb25-d7e2e73e0b2d"
      },
      "execution_count": null,
      "outputs": [
        {
          "output_type": "display_data",
          "data": {
            "text/plain": [
              "<IPython.core.display.HTML object>"
            ],
            "text/html": [
              "\n",
              "    <div>\n",
              "      \n",
              "      <progress value='10000' max='10000' style='width:300px; height:20px; vertical-align: middle;'></progress>\n",
              "      [10000/10000 16:21, Epoch 20/20]\n",
              "    </div>\n",
              "    <table border=\"1\" class=\"dataframe\">\n",
              "  <thead>\n",
              " <tr style=\"text-align: left;\">\n",
              "      <th>Epoch</th>\n",
              "      <th>Training Loss</th>\n",
              "      <th>Validation Loss</th>\n",
              "      <th>Accuracy</th>\n",
              "    </tr>\n",
              "  </thead>\n",
              "  <tbody>\n",
              "    <tr>\n",
              "      <td>1</td>\n",
              "      <td>6.304200</td>\n",
              "      <td>5.737255</td>\n",
              "      <td>0.025000</td>\n",
              "    </tr>\n",
              "    <tr>\n",
              "      <td>2</td>\n",
              "      <td>4.944000</td>\n",
              "      <td>4.015584</td>\n",
              "      <td>0.376000</td>\n",
              "    </tr>\n",
              "    <tr>\n",
              "      <td>3</td>\n",
              "      <td>3.570000</td>\n",
              "      <td>2.969765</td>\n",
              "      <td>0.568000</td>\n",
              "    </tr>\n",
              "    <tr>\n",
              "      <td>4</td>\n",
              "      <td>2.748000</td>\n",
              "      <td>2.334414</td>\n",
              "      <td>0.720000</td>\n",
              "    </tr>\n",
              "    <tr>\n",
              "      <td>5</td>\n",
              "      <td>2.203600</td>\n",
              "      <td>1.917354</td>\n",
              "      <td>0.751000</td>\n",
              "    </tr>\n",
              "    <tr>\n",
              "      <td>6</td>\n",
              "      <td>1.811500</td>\n",
              "      <td>1.611282</td>\n",
              "      <td>0.782000</td>\n",
              "    </tr>\n",
              "    <tr>\n",
              "      <td>7</td>\n",
              "      <td>1.518700</td>\n",
              "      <td>1.381802</td>\n",
              "      <td>0.821000</td>\n",
              "    </tr>\n",
              "    <tr>\n",
              "      <td>8</td>\n",
              "      <td>1.284900</td>\n",
              "      <td>1.212362</td>\n",
              "      <td>0.862000</td>\n",
              "    </tr>\n",
              "    <tr>\n",
              "      <td>9</td>\n",
              "      <td>1.111700</td>\n",
              "      <td>1.077929</td>\n",
              "      <td>0.876000</td>\n",
              "    </tr>\n",
              "    <tr>\n",
              "      <td>10</td>\n",
              "      <td>0.966000</td>\n",
              "      <td>0.981329</td>\n",
              "      <td>0.893000</td>\n",
              "    </tr>\n",
              "    <tr>\n",
              "      <td>11</td>\n",
              "      <td>0.856500</td>\n",
              "      <td>0.917733</td>\n",
              "      <td>0.894000</td>\n",
              "    </tr>\n",
              "    <tr>\n",
              "      <td>12</td>\n",
              "      <td>0.767800</td>\n",
              "      <td>0.835344</td>\n",
              "      <td>0.917000</td>\n",
              "    </tr>\n",
              "    <tr>\n",
              "      <td>13</td>\n",
              "      <td>0.694500</td>\n",
              "      <td>0.780797</td>\n",
              "      <td>0.921000</td>\n",
              "    </tr>\n",
              "    <tr>\n",
              "      <td>14</td>\n",
              "      <td>0.638900</td>\n",
              "      <td>0.742771</td>\n",
              "      <td>0.926000</td>\n",
              "    </tr>\n",
              "    <tr>\n",
              "      <td>15</td>\n",
              "      <td>0.592100</td>\n",
              "      <td>0.705789</td>\n",
              "      <td>0.930000</td>\n",
              "    </tr>\n",
              "    <tr>\n",
              "      <td>16</td>\n",
              "      <td>0.553200</td>\n",
              "      <td>0.684852</td>\n",
              "      <td>0.928000</td>\n",
              "    </tr>\n",
              "    <tr>\n",
              "      <td>17</td>\n",
              "      <td>0.523300</td>\n",
              "      <td>0.663715</td>\n",
              "      <td>0.932000</td>\n",
              "    </tr>\n",
              "    <tr>\n",
              "      <td>18</td>\n",
              "      <td>0.498900</td>\n",
              "      <td>0.649744</td>\n",
              "      <td>0.932000</td>\n",
              "    </tr>\n",
              "    <tr>\n",
              "      <td>19</td>\n",
              "      <td>0.485500</td>\n",
              "      <td>0.647357</td>\n",
              "      <td>0.928000</td>\n",
              "    </tr>\n",
              "    <tr>\n",
              "      <td>20</td>\n",
              "      <td>0.475300</td>\n",
              "      <td>0.641811</td>\n",
              "      <td>0.932000</td>\n",
              "    </tr>\n",
              "  </tbody>\n",
              "</table><p>"
            ]
          },
          "metadata": {}
        },
        {
          "output_type": "display_data",
          "data": {
            "text/plain": [
              "<IPython.core.display.HTML object>"
            ],
            "text/html": [
              "\n",
              "    <div>\n",
              "      \n",
              "      <progress value='125' max='125' style='width:300px; height:20px; vertical-align: middle;'></progress>\n",
              "      [125/125 00:01]\n",
              "    </div>\n",
              "    "
            ]
          },
          "metadata": {}
        },
        {
          "output_type": "stream",
          "name": "stdout",
          "text": [
            "{'eval_loss': 0.6637150645256042, 'eval_accuracy': 0.932, 'eval_runtime': 1.4279, 'eval_samples_per_second': 700.346, 'eval_steps_per_second': 87.543, 'epoch': 20.0}\n"
          ]
        }
      ]
    },
    {
      "cell_type": "code",
      "source": [
        "# Save the model and tokenizer\n",
        "trainer.save_model(\"./IPM_model\")\n",
        "tokenizer.save_pretrained(\"./IPM_model\")"
      ],
      "metadata": {
        "id": "tQzPKraE4gp2",
        "colab": {
          "base_uri": "https://localhost:8080/"
        },
        "outputId": "80e35cff-a998-4185-9fe3-c6e49504dd84"
      },
      "execution_count": null,
      "outputs": [
        {
          "output_type": "execute_result",
          "data": {
            "text/plain": [
              "('./IPM_model/tokenizer_config.json',\n",
              " './IPM_model/special_tokens_map.json',\n",
              " './IPM_model/vocab.txt',\n",
              " './IPM_model/added_tokens.json',\n",
              " './IPM_model/tokenizer.json')"
            ]
          },
          "metadata": {},
          "execution_count": 39
        }
      ]
    },
    {
      "cell_type": "markdown",
      "source": [
        "# **Move model to device**"
      ],
      "metadata": {
        "id": "c_gVnuPdckt2"
      }
    },
    {
      "cell_type": "code",
      "source": [
        "model = AutoModelForSequenceClassification.from_pretrained(\"./IPM_model\")\n",
        "tokenizer = AutoTokenizer.from_pretrained(\"./IPM_model\")\n",
        "\n",
        "device = torch.device(\"cuda\" if torch.cuda.is_available() else \"cpu\")\n",
        "model.to(device)"
      ],
      "metadata": {
        "colab": {
          "base_uri": "https://localhost:8080/"
        },
        "collapsed": true,
        "id": "UrITv98ikGjy",
        "outputId": "73afbcd4-727f-4069-a6e4-ebf83b744c92"
      },
      "execution_count": null,
      "outputs": [
        {
          "output_type": "execute_result",
          "data": {
            "text/plain": [
              "BertForSequenceClassification(\n",
              "  (bert): BertModel(\n",
              "    (embeddings): BertEmbeddings(\n",
              "      (word_embeddings): Embedding(30522, 768, padding_idx=0)\n",
              "      (position_embeddings): Embedding(512, 768)\n",
              "      (token_type_embeddings): Embedding(2, 768)\n",
              "      (LayerNorm): LayerNorm((768,), eps=1e-12, elementwise_affine=True)\n",
              "      (dropout): Dropout(p=0.1, inplace=False)\n",
              "    )\n",
              "    (encoder): BertEncoder(\n",
              "      (layer): ModuleList(\n",
              "        (0-5): 6 x BertLayer(\n",
              "          (attention): BertAttention(\n",
              "            (self): BertSdpaSelfAttention(\n",
              "              (query): Linear(in_features=768, out_features=768, bias=True)\n",
              "              (key): Linear(in_features=768, out_features=768, bias=True)\n",
              "              (value): Linear(in_features=768, out_features=768, bias=True)\n",
              "              (dropout): Dropout(p=0.1, inplace=False)\n",
              "            )\n",
              "            (output): BertSelfOutput(\n",
              "              (dense): Linear(in_features=768, out_features=768, bias=True)\n",
              "              (LayerNorm): LayerNorm((768,), eps=1e-12, elementwise_affine=True)\n",
              "              (dropout): Dropout(p=0.1, inplace=False)\n",
              "            )\n",
              "          )\n",
              "          (intermediate): BertIntermediate(\n",
              "            (dense): Linear(in_features=768, out_features=3072, bias=True)\n",
              "            (intermediate_act_fn): ReLU()\n",
              "          )\n",
              "          (output): BertOutput(\n",
              "            (dense): Linear(in_features=3072, out_features=768, bias=True)\n",
              "            (LayerNorm): LayerNorm((768,), eps=1e-12, elementwise_affine=True)\n",
              "            (dropout): Dropout(p=0.1, inplace=False)\n",
              "          )\n",
              "        )\n",
              "      )\n",
              "    )\n",
              "    (pooler): BertPooler(\n",
              "      (dense): Linear(in_features=768, out_features=768, bias=True)\n",
              "      (activation): Tanh()\n",
              "    )\n",
              "  )\n",
              "  (dropout): Dropout(p=0.1, inplace=False)\n",
              "  (classifier): Linear(in_features=768, out_features=758, bias=True)\n",
              ")"
            ]
          },
          "metadata": {},
          "execution_count": 40
        }
      ]
    },
    {
      "cell_type": "code",
      "source": [
        "crops = set(train_df['Crop'].dropna().str.lower())\n",
        "pests = set(train_df['Pest/Disease/etc'].dropna().str.lower())\n",
        "locations = set(train_df['Location'].dropna().str.lower())"
      ],
      "metadata": {
        "id": "rcN3d_tBNQ9g"
      },
      "execution_count": null,
      "outputs": []
    },
    {
      "cell_type": "markdown",
      "source": [
        "# **Test Model with Custom Input**"
      ],
      "metadata": {
        "id": "e5hqu4Z4mW8W"
      }
    },
    {
      "cell_type": "markdown",
      "source": [
        "# **Regular expressions to extract crop, pest, and location from user input**"
      ],
      "metadata": {
        "id": "KeZZpOL4AxIS"
      }
    },
    {
      "cell_type": "code",
      "source": [
        "import re\n",
        "\n",
        "def extract_info(text):\n",
        "    crop_pattern = '|'.join(crops)\n",
        "    pest_pattern = '|'.join(pests)\n",
        "    location_pattern = '|'.join(locations)\n",
        "\n",
        "    crop_match = re.search(crop_pattern, text, re.IGNORECASE)\n",
        "    pest_match = re.search(pest_pattern, text, re.IGNORECASE)\n",
        "    location_match = re.search(location_pattern, text, re.IGNORECASE)\n",
        "\n",
        "    crop = crop_match.group(0).lower() if crop_match else 'unknown'\n",
        "    pest = pest_match.group(0).lower() if pest_match else 'unknown'\n",
        "    location = location_match.group(0).lower() if location_match else 'unknown'\n",
        "\n",
        "    return crop, pest, location"
      ],
      "metadata": {
        "id": "6o7kKQ7WX4fr"
      },
      "execution_count": null,
      "outputs": []
    },
    {
      "cell_type": "markdown",
      "source": [
        "# **Function tokenizes the text entry and performs inference using the model and df**"
      ],
      "metadata": {
        "id": "BVsU3qKsbHwo"
      }
    },
    {
      "cell_type": "code",
      "source": [
        "def predict_from_model(crop, location, pest, df, top_n=3):\n",
        "    text_entry = f\"Crop: {crop}\\nLocation: {location}\\nPest/Disease/etc: {pest}\"\n",
        "    tokens = tokenizer(text_entry, padding='max_length', truncation=True, max_length=120, return_tensors='pt')\n",
        "\n",
        "    # Move tensors to the same device as the model\n",
        "    tokens = {key: val.to(device) for key, val in tokens.items()}\n",
        "\n",
        "    with torch.no_grad():\n",
        "        outputs = model(**tokens)\n",
        "\n",
        "    logits = outputs.logits\n",
        "    top_n_indices = logits.topk(top_n, dim=-1).indices.squeeze().tolist()\n",
        "\n",
        "    solutions = [df.iloc[i]['Solution'] for i in top_n_indices]\n",
        "    ratings = [df.iloc[i]['Rating'] for i in top_n_indices]\n",
        "\n",
        "    return solutions, ratings"
      ],
      "metadata": {
        "id": "hhSnBljmYEkU"
      },
      "execution_count": null,
      "outputs": []
    },
    {
      "cell_type": "markdown",
      "source": [
        "# **Top predicted solutions and ratings are printed to the user**"
      ],
      "metadata": {
        "id": "s-EEfzfObYfL"
      }
    },
    {
      "cell_type": "code",
      "source": [
        "def main():\n",
        "    while True:\n",
        "        user_input = input(\"Describe your situation (or type 'exit' to quit): \").strip()\n",
        "        if user_input.lower() == 'exit':\n",
        "            break\n",
        "\n",
        "        crop, pest, location = extract_info(user_input)\n",
        "\n",
        "        if crop == 'unknown' or pest == 'unknown' or location == 'unknown':\n",
        "            print(\"Unable to extract crop, pest, or location. Please try again with clearer information.\")\n",
        "            continue\n",
        "\n",
        "        # Predict solutions and ratings\n",
        "        solutions, ratings = predict_from_model(crop, location, pest, df, top_n=3)\n",
        "\n",
        "        if not solutions:\n",
        "            print(\"No solutions found for the given input. Please try again.\")\n",
        "        else:\n",
        "            for i, (solution, rating) in enumerate(zip(solutions, ratings), 1):\n",
        "                print(f\"Solution {i}: {solution}\")\n",
        "                print(f\"Rating {i}: {rating}\")\n",
        "\n",
        "main()"
      ],
      "metadata": {
        "id": "QouDLiaAYO9q",
        "colab": {
          "base_uri": "https://localhost:8080/"
        },
        "outputId": "7dc46674-18c7-4ea0-ea80-785dede742ab"
      },
      "execution_count": null,
      "outputs": [
        {
          "name": "stdout",
          "output_type": "stream",
          "text": [
            "Describe your situation (or type 'exit' to quit): I have a spinach crop with green peach aphids in the Northeastern region\n",
            "Solution 1: dichloropropene/chloropicrin\n",
            "Rating 1: Good, 80-90%\n",
            "Solution 2: Dichloropropene\n",
            "Rating 2: Good, 80-90%\n",
            "Solution 3: Permethrin\n",
            "Rating 3: Good, 80-90%\n",
            "Describe your situation (or type 'exit' to quit): exit\n"
          ]
        }
      ]
    }
  ]
}