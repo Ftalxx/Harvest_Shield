{
  "nbformat": 4,
  "nbformat_minor": 0,
  "metadata": {
    "colab": {
      "provenance": [],
      "gpuType": "T4",
      "authorship_tag": "ABX9TyOfOL0o/vafYwkNxqUDxTjW",
      "include_colab_link": true
    },
    "kernelspec": {
      "name": "python3",
      "display_name": "Python 3"
    },
    "language_info": {
      "name": "python"
    },
    "accelerator": "GPU"
  },
  "cells": [
    {
      "cell_type": "markdown",
      "metadata": {
        "id": "view-in-github",
        "colab_type": "text"
      },
      "source": [
        "<a href=\"https://colab.research.google.com/github/Tonic4to/Disease-Identification-And-prevention/blob/main/Pest_%2B_Disease_Model_.ipynb\" target=\"_parent\"><img src=\"https://colab.research.google.com/assets/colab-badge.svg\" alt=\"Open In Colab\"/></a>"
      ]
    },
    {
      "cell_type": "markdown",
      "source": [
        "Models:\n",
        "\n",
        "CNN image classification - Identifies the crop, identifies the parasite."
      ],
      "metadata": {
        "id": "Hx6jxE4s94Zl"
      }
    },
    {
      "cell_type": "markdown",
      "source": [
        "# CNN Image Classification\n"
      ],
      "metadata": {
        "id": "Jp9LvHTvBvLG"
      }
    },
    {
      "cell_type": "code",
      "source": [
        "import tensorflow as tf\n",
        "import numpy as np\n",
        "from tensorflow.keras import datasets, layers, models\n",
        "import matplotlib.pyplot as plt"
      ],
      "metadata": {
        "id": "6nDgHIVaB3qv"
      },
      "execution_count": 1,
      "outputs": []
    },
    {
      "cell_type": "code",
      "source": [
        "from google.colab import auth\n",
        "from google.colab import drive\n",
        "import json\n",
        "import os\n",
        "\n",
        "# Authenticate and mount Google Drive.\n",
        "auth.authenticate_user()\n",
        "drive.mount('/content/drive')\n",
        "\n",
        "# Path to the file where the token is stored (e.g., /content/drive/My Drive/colab_secrets.json)\n",
        "secrets_file = '/content/drive/My Drive/colab_secrets.json'\n",
        "\n",
        "# Load the token from the secrets file\n",
        "with open(secrets_file) as f:\n",
        "    secrets = json.load(f)\n",
        "    github_token = secrets['GITHUB_TOKEN']\n",
        "\n",
        "# Install Kaggle package\n",
        "!pip install kaggle\n",
        "\n",
        "# Clone the repository using the token\n",
        "!git clone https://{github_token}@github.com/Tonic4to/Disease-Identification-And-prevention.git\n",
        "\n",
        "# Run the shell script to set up Kaggle configuration\n",
        "!bash Disease-Identification-And-prevention/config/setup_kaggle.sh\n",
        "\n",
        "# Download a dataset using the Kaggle API\n",
        "!kaggle datasets download -d marquis03/plants-classification\n",
        "\n",
        "# Create a directory to unzip the dataset\n",
        "!mkdir -p dataset_directory\n",
        "\n",
        "# Unzip the dataset into the created directory\n",
        "!unzip plants-classification.zip -d dataset_directory\n",
        "\n",
        "# List the contents of the dataset directory to verify\n",
        "!ls dataset_directory\n"
      ],
      "metadata": {
        "colab": {
          "base_uri": "https://localhost:8080/"
        },
        "id": "P0dnJy6DLon1",
        "outputId": "722c5595-9b01-4652-c99f-8786c8c55dde"
      },
      "execution_count": 5,
      "outputs": [
        {
          "output_type": "stream",
          "name": "stdout",
          "text": [
            "Drive already mounted at /content/drive; to attempt to forcibly remount, call drive.mount(\"/content/drive\", force_remount=True).\n",
            "Requirement already satisfied: kaggle in /usr/local/lib/python3.10/dist-packages (1.6.17)\n",
            "Requirement already satisfied: six>=1.10 in /usr/local/lib/python3.10/dist-packages (from kaggle) (1.16.0)\n",
            "Requirement already satisfied: certifi>=2023.7.22 in /usr/local/lib/python3.10/dist-packages (from kaggle) (2024.7.4)\n",
            "Requirement already satisfied: python-dateutil in /usr/local/lib/python3.10/dist-packages (from kaggle) (2.8.2)\n",
            "Requirement already satisfied: requests in /usr/local/lib/python3.10/dist-packages (from kaggle) (2.31.0)\n",
            "Requirement already satisfied: tqdm in /usr/local/lib/python3.10/dist-packages (from kaggle) (4.66.4)\n",
            "Requirement already satisfied: python-slugify in /usr/local/lib/python3.10/dist-packages (from kaggle) (8.0.4)\n",
            "Requirement already satisfied: urllib3 in /usr/local/lib/python3.10/dist-packages (from kaggle) (2.0.7)\n",
            "Requirement already satisfied: bleach in /usr/local/lib/python3.10/dist-packages (from kaggle) (6.1.0)\n",
            "Requirement already satisfied: webencodings in /usr/local/lib/python3.10/dist-packages (from bleach->kaggle) (0.5.1)\n",
            "Requirement already satisfied: text-unidecode>=1.3 in /usr/local/lib/python3.10/dist-packages (from python-slugify->kaggle) (1.3)\n",
            "Requirement already satisfied: charset-normalizer<4,>=2 in /usr/local/lib/python3.10/dist-packages (from requests->kaggle) (3.3.2)\n",
            "Requirement already satisfied: idna<4,>=2.5 in /usr/local/lib/python3.10/dist-packages (from requests->kaggle) (3.7)\n",
            "fatal: destination path 'Disease-Identification-And-prevention' already exists and is not an empty directory.\n",
            "Disease-Identification-And-prevention/config/setup_kaggle.sh: line 2: $'\\r': command not found\n",
            "fatal: destination path 'Disease-Identification-And-prevention' already exists and is not an empty directory.\n",
            "Disease-Identification-And-prevention/config/setup_kaggle.sh: line 5: $'\\r': command not found\n",
            "Disease-Identification-And-prevention/config/setup_kaggle.sh: line 7: cd: $'Disease-Identification-And-prevention/config\\r': No such file or directory\n",
            "Disease-Identification-And-prevention/config/setup_kaggle.sh: line 8: $'\\r': command not found\n",
            "cp: cannot stat 'kaggle.json': No such file or directory\n",
            "chmod: cannot access '/root/.kaggle/kaggle.json'$'\\r': No such file or directory\n",
            "Disease-Identification-And-prevention/config/setup_kaggle.sh: line 13: $'\\r': command not found\n",
            "Disease-Identification-And-prevention/config/setup_kaggle.sh: line 15: cd: $'/content\\r': No such file or directory\n",
            "Dataset URL: https://www.kaggle.com/datasets/marquis03/plants-classification\n",
            "License(s): Apache 2.0\n",
            "plants-classification.zip: Skipping, found more recently modified local copy (use --force to force download)\n",
            "Archive:  plants-classification.zip\n",
            "replace dataset_directory/test.csv? [y]es, [n]o, [A]ll, [N]one, [r]ename: test  test.csv\ttrain  train.csv  val  val.csv\n"
          ]
        }
      ]
    },
    {
      "cell_type": "code",
      "source": [
        "'''\n",
        "#Depreciated - use bash script method\n",
        "!git clone https://github.com/Tonic4to/Disease-Identification-And-prevention.git\n",
        "!pip install kaggle\n",
        "%cd Disease-Identification-And-prevention/config\n",
        "#Moves Kaggle.json to API location\n",
        "!mkdir -p ~/.kaggle\n",
        "!cp kaggle.json ~/.kaggle/\n",
        "!chmod 600 ~/.kaggle/kaggle.json\n",
        "#Downloads Dataset\n",
        "!kaggle datasets download -d marquis03/plants-classification\n",
        "'''"
      ],
      "metadata": {
        "id": "-Y8vaBX1KADM"
      },
      "execution_count": null,
      "outputs": []
    }
  ]
}